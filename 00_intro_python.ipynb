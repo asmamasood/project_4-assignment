{
  "nbformat": 4,
  "nbformat_minor": 0,
  "metadata": {
    "colab": {
      "provenance": [],
      "authorship_tag": "ABX9TyOSjHyvr6fbOIlXv+TSy7M0",
      "include_colab_link": true
    },
    "kernelspec": {
      "name": "python3",
      "display_name": "Python 3"
    },
    "language_info": {
      "name": "python"
    }
  },
  "cells": [
    {
      "cell_type": "markdown",
      "metadata": {
        "id": "view-in-github",
        "colab_type": "text"
      },
      "source": [
        "<a href=\"https://colab.research.google.com/github/asmamasood/project_4-assignment/blob/main/00_intro_python.ipynb\" target=\"_parent\"><img src=\"https://colab.research.google.com/assets/colab-badge.svg\" alt=\"Open In Colab\"/></a>"
      ]
    },
    {
      "cell_type": "markdown",
      "source": [
        "**ADD TWO NUMBERS**"
      ],
      "metadata": {
        "id": "fKJOQ2gN04ei"
      }
    },
    {
      "cell_type": "markdown",
      "source": [
        "Write a Python program that takes two integer inputs from the user and calculates their sum. The program should perform the following tasks:\n",
        "\n",
        "Prompt the user to enter the first number.\n",
        "\n",
        "Read the input and convert it to an integer.\n",
        "\n",
        "Prompt the user to enter the second number.\n",
        "\n",
        "Read the input and convert it to an integer.\n",
        "\n",
        "Calculate the sum of the two numbers.\n",
        "\n",
        "Print the total sum with an appropriate message."
      ],
      "metadata": {
        "id": "2aSkLQx-3iQV"
      }
    },
    {
      "cell_type": "code",
      "execution_count": null,
      "metadata": {
        "colab": {
          "base_uri": "https://localhost:8080/"
        },
        "id": "n04zDWFEzh0q",
        "outputId": "9fecb4b9-3d9d-4b17-e1c9-8578e5ddeab6"
      },
      "outputs": [
        {
          "output_type": "stream",
          "name": "stdout",
          "text": [
            "enter the 1st number20\n",
            "enter the 2nd number5\n",
            "The sum of two numbers are = 25 \n",
            "The sum of two numbers are =  25\n"
          ]
        }
      ],
      "source": [
        "def main():\n",
        "    num1 =  input(\"enter the 1st number\")\n",
        "    val1 :int = int(num1)\n",
        "    num2 =  input(\"enter the 2nd number\")\n",
        "    val2 :int = int(num2)\n",
        "    sum : int =val1+val2\n",
        "    print(f\"The sum of two numbers are = {sum} \")\n",
        "\n",
        "# This provided line is required at the end of\n",
        "# Python file to call the main() function.\n",
        "if __name__ == '__main__':\n",
        "    main()"
      ]
    },
    {
      "cell_type": "markdown",
      "source": [
        "**AGREEMENT BOT**"
      ],
      "metadata": {
        "id": "8gII8xQ468Hm"
      }
    },
    {
      "cell_type": "markdown",
      "source": [
        "Write a program which asks the user what their favorite animal is, and then always responds with \"My favorite animal is also ___!\" (the blank should be filled in with the user-inputted animal, of course).\n",
        "\n",
        "Here's a sample run of the program (user input is in bold italics - note the space between the prompt and the user input!):\n",
        "\n",
        "What's your favorite animal? cow\n",
        "\n",
        "My favorite animal is also cow!"
      ],
      "metadata": {
        "id": "tUtwhLJ34AYD"
      }
    },
    {
      "cell_type": "code",
      "source": [
        "def main():\n",
        "  user_input : str = str(input(\"What is your favorite animal ? \"))\n",
        "  print(\"My favorite animal is also\", user_input)\n",
        "\n",
        "if __name__ == '__main__':\n",
        "  main()"
      ],
      "metadata": {
        "colab": {
          "base_uri": "https://localhost:8080/"
        },
        "id": "lkbUwbUW7FsS",
        "outputId": "69073192-1ae1-4dde-b5e1-7637757eae64"
      },
      "execution_count": null,
      "outputs": [
        {
          "output_type": "stream",
          "name": "stdout",
          "text": [
            "What is your favorite animal ? lion\n",
            "My favorite animal is also lion\n"
          ]
        }
      ]
    },
    {
      "cell_type": "markdown",
      "source": [
        "**FAHRENHEIT TO CELSIUS**"
      ],
      "metadata": {
        "id": "KnzztoHzFe_C"
      }
    },
    {
      "cell_type": "markdown",
      "source": [
        "Write a program which prompts the user for a temperature in Fahrenheit (this can be a number with decimal places!) and outputs the temperature converted to Celsius.\n",
        "\n",
        "The Celsius scale is widely used to measure temperature, but places still use Fahrenheit. Fahrenheit is another unit for temperature, but the scale is different from Celsius -- for example, 0 degrees Celsius is 32 degrees Fahrenheit!\n",
        "\n",
        "The equation you should use for converting from Fahrenheit to Celsius is the following:\n",
        "\n",
        "degrees_celsius = (degrees_fahrenheit - 32) * 5.0/9.0\n",
        "\n",
        "(Note. The .0 after the 5 and 9 matters in the line above!!!)\n",
        "\n",
        "Here's a sample run of the program (user input is in bold italics):\n",
        "\n",
        "Enter temperature in Fahrenheit: 76\n",
        "\n",
        "Temperature: 76.0F = 24.444444444444443C"
      ],
      "metadata": {
        "id": "C7zkDc3f4PfW"
      }
    },
    {
      "cell_type": "code",
      "source": [
        "user_value : float = float(input(\"Ënter the value of temperature in fahrenheit : \"))\n",
        "def main(fahrenheit):\n",
        "  deg_celcius = (fahrenheit - 32) * 5.0/9.0\n",
        "  print(deg_celcius)\n",
        "\n",
        "if __name__ == '__main__':\n",
        "  main(user_value)\n"
      ],
      "metadata": {
        "colab": {
          "base_uri": "https://localhost:8080/"
        },
        "id": "WMeRCuGC_Zli",
        "outputId": "98ee9e60-baa9-4879-8cf6-3f9f133b0783"
      },
      "execution_count": null,
      "outputs": [
        {
          "output_type": "stream",
          "name": "stdout",
          "text": [
            "Ënter the value of temperature in fahrenheit : 50\n",
            "10.0\n"
          ]
        }
      ]
    },
    {
      "cell_type": "markdown",
      "source": [
        "**HOW OLD ARE THEY**"
      ],
      "metadata": {
        "id": "UqLo49ecGcr8"
      }
    },
    {
      "cell_type": "markdown",
      "source": [
        "Write a program to solve this age-related riddle!\n",
        "\n",
        "Anton, Beth, Chen, Drew, and Ethan are all friends. Their ages are as follows:\n",
        "\n",
        "Anton is 21 years old.\n",
        "\n",
        "Beth is 6 years older than Anton.\n",
        "\n",
        "Chen is 20 years older than Beth.\n",
        "\n",
        "Drew is as old as Chen's age plus Anton's age.\n",
        "\n",
        "Ethan is the same age as Chen."
      ],
      "metadata": {
        "id": "UufIfmPu4zvj"
      }
    },
    {
      "cell_type": "code",
      "source": [
        "def main():\n",
        " Anton = 21\n",
        " Beth  = 21 + Anton\n",
        " Chen = 20 + Beth\n",
        " Drew = Chen + Anton\n",
        " Ethan = Chen\n",
        " print(f\"The age of Anton is {Anton} years.\")\n",
        " print(f\"The age of Anton is {Beth} years.\")\n",
        " print(f\"The age of Anton is {Chen} years.\")\n",
        " print(f\"The age of Anton is {Drew} years.\")\n",
        " print(f\"The age of Anton is {Ethan} years.\")\n",
        "if __name__ == '__main__':\n",
        "    main()"
      ],
      "metadata": {
        "colab": {
          "base_uri": "https://localhost:8080/"
        },
        "id": "674Lx2W5HC9m",
        "outputId": "e678dae7-16ef-4370-d04a-21b023d5b6c3"
      },
      "execution_count": null,
      "outputs": [
        {
          "output_type": "stream",
          "name": "stdout",
          "text": [
            "The age of Anton is 21 years.\n",
            "The age of Anton is 42 years.\n",
            "The age of Anton is 62 years.\n",
            "The age of Anton is 83 years.\n",
            "The age of Anton is 62 years.\n"
          ]
        }
      ]
    },
    {
      "cell_type": "markdown",
      "source": [
        "**TRIANGLE PERIMETER**"
      ],
      "metadata": {
        "id": "3ykugekkkqYZ"
      }
    },
    {
      "cell_type": "markdown",
      "source": [
        "Prompt the user to enter the lengths of each side of a triangle and then calculate and print the perimeter of the triangle (the sum of all of the side lengths).\n",
        "\n",
        "Here's a sample run of the program (user input is in bold italics):\n",
        "\n",
        "What is the length of side 1? 3\n",
        "\n",
        "What is the length of side 2? 4\n",
        "\n",
        "What is the length of side 3? 5.5\n",
        "\n",
        "The perimeter of the triangle is 12.5"
      ],
      "metadata": {
        "id": "RQNZfSQC5MLb"
      }
    },
    {
      "cell_type": "code",
      "source": [
        "def main():\n",
        "  side_1: float= float(input(\"plz enter the length of first side?\"))\n",
        "  side_2: float= float(input(\"plz enter the length of second side?\"))\n",
        "  side_3: float= float(input(\"plz enter the length of third side?\"))\n",
        "  perimeter:float=float(side_1+side_2+side_3)\n",
        "  print(f\"The perimeter of tringle is {perimeter}\")\n",
        "if __name__ == '__main__':\n",
        "    main()"
      ],
      "metadata": {
        "colab": {
          "base_uri": "https://localhost:8080/"
        },
        "id": "VIqvdU4MlU7O",
        "outputId": "c43df750-8950-4a6d-f9d3-882cbb859bc6"
      },
      "execution_count": null,
      "outputs": [
        {
          "output_type": "stream",
          "name": "stdout",
          "text": [
            "plz enter the length of first side?20.1\n",
            "plz enter the length of second side?30.2\n",
            "plz enter the length of third side?45.5\n",
            "The perimeter of tringle is 95.8\n"
          ]
        }
      ]
    },
    {
      "cell_type": "markdown",
      "source": [
        "**SQUARE NUMBERS**"
      ],
      "metadata": {
        "id": "13L81rptpfEQ"
      }
    },
    {
      "cell_type": "markdown",
      "source": [
        "Ask the user for a number and print its square (the product of the number times itself).\n",
        "\n",
        "Here's a sample run of the program (user input is in bold italics):\n",
        "\n",
        "Type a number to see its square: 4\n",
        "\n",
        "4.0 squared is 16.0"
      ],
      "metadata": {
        "id": "ONXT1RI05QV1"
      }
    },
    {
      "cell_type": "code",
      "source": [
        "def main():\n",
        "  num = input(\"Enter a number to see its square:\")\n",
        "  square = float(num)**2\n",
        "  print(square)\n",
        "if __name__ == '__main__':\n",
        "    main()"
      ],
      "metadata": {
        "colab": {
          "base_uri": "https://localhost:8080/"
        },
        "id": "_D0tPU2nqJ9v",
        "outputId": "a2458a24-fcf7-4cf1-c9da-bc1364557d57"
      },
      "execution_count": null,
      "outputs": [
        {
          "output_type": "stream",
          "name": "stdout",
          "text": [
            "Enter a number to see its square:8\n",
            "64.0\n"
          ]
        }
      ]
    }
  ]
}