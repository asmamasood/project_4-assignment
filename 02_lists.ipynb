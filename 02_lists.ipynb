{
  "cells": [
    {
      "cell_type": "markdown",
      "metadata": {
        "id": "view-in-github",
        "state": {},
        "colab_type": "text"
      },
      "source": [
        "<a href=\"https://colab.research.google.com/github/asmamasood/project_4-assignment/blob/main/02_lists.ipynb\" target=\"_parent\"><img src=\"https://colab.research.google.com/assets/colab-badge.svg\" alt=\"Open In Colab\"/></a>"
      ]
    },
    {
      "cell_type": "markdown",
      "metadata": {
        "id": "AMB-raJHDIcZ",
      },
      "source": [
        "***01_add_many_number***"
      ]
    },
    {
      "cell_type": "markdown",
      "metadata": {
        "id": "q3fs2ivADkC8"
      },
      "source": [
        "Write a function that takes a list of numbers and returns the sum of those numbers."
      ]
    },
    {
      "cell_type": "code",
      "execution_count": null,
      "metadata": {
        "colab": {
          "base_uri": "https://localhost:8080/"
        },
        "id": "Y5oR_BxlDpqV",
        "outputId": "6c23290d-9019-4830-af51-01117bf0d31d"
      },
      "outputs": [
        {
          "name": "stdout",
          "output_type": "stream",
          "text": [
            "21\n"
          ]
        }
      ],
      "source": [
        "my_list=[1,2,3,4,5,6]\n",
        "total=sum_of_numbers(my_list)\n",
        "print(total)"
      ]
    },
    {
      "cell_type": "markdown",
      "metadata": {
        "id": "Hdylklg2Enrg"
      },
      "source": [
        "***02_double_list***"
      ]
    },
    {
      "cell_type": "markdown",
      "metadata": {
        "id": "8MMS24xnElHy"
      },
      "source": [
        "Write a program that doubles each element in a list of numbers. For example, if you start with this list:\n",
        "\n",
        "numbers = [1, 2, 3, 4]\n",
        "\n",
        "You should end with this list:\n",
        "\n",
        "numbers = [2, 4, 6, 8]"
      ]
    },
    {
      "cell_type": "code",
      "execution_count": null,
      "metadata": {
        "colab": {
          "base_uri": "https://localhost:8080/"
        },
        "id": "_mg6kXdpEzqF",
        "outputId": "10230ba1-f39c-4165-9f8a-e8ef02314c04"
      },
      "outputs": [
        {
          "name": "stdout",
          "output_type": "stream",
          "text": [
            "[2, 4, 6, 8]\n"
          ]
        }
      ],
      "source": [
        "def main():\n",
        "  numbers=[1,2,3,4]\n",
        "  numbers=[num * 2 for num in numbers]\n",
        "  print(numbers)\n",
        "if __name__== '__main__':\n",
        "  main()"
      ]
    },
    {
      "cell_type": "markdown",
      "metadata": {
        "id": "vGA9O0jKIUlN"
      },
      "source": [
        "***03_erase_canvas***"
      ]
    },
    {
      "cell_type": "markdown",
      "metadata": {
        "id": "lTeCe8cMIclS"
      },
      "source": [
        "Implement an 'eraser' on a canvas.\n",
        "\n",
        "The canvas consists of a grid of blue 'cells' which are drawn as rectangles on the screen. We then create an eraser rectangle which, when dragged around the canvas, sets all of the rectangles it is in contact with to white."
      ]
    },
    {
      "cell_type": "code",
      "source": [
        "!pip install ipycanvas\n"
      ],
      "metadata": {
        "colab": {
          "base_uri": "https://localhost:8080/"
        },
        "id": "SJr5rmXuuS0B",
        "outputId": "75f9bbca-8542-47c9-f895-363a83ad2e35"
      },
      "execution_count": 2,
      "outputs": [
        {
          "output_type": "stream",
          "name": "stdout",
          "text": [
            "Collecting ipycanvas\n",
            "  Downloading ipycanvas-0.13.3-py2.py3-none-any.whl.metadata (6.3 kB)\n",
            "Requirement already satisfied: ipywidgets<9,>=7.6.0 in /usr/local/lib/python3.11/dist-packages (from ipycanvas) (7.7.1)\n",
            "Requirement already satisfied: numpy in /usr/local/lib/python3.11/dist-packages (from ipycanvas) (2.0.2)\n",
            "Requirement already satisfied: pillow>=6.0 in /usr/local/lib/python3.11/dist-packages (from ipycanvas) (11.1.0)\n",
            "Requirement already satisfied: ipykernel>=4.5.1 in /usr/local/lib/python3.11/dist-packages (from ipywidgets<9,>=7.6.0->ipycanvas) (6.17.1)\n",
            "Requirement already satisfied: ipython-genutils~=0.2.0 in /usr/local/lib/python3.11/dist-packages (from ipywidgets<9,>=7.6.0->ipycanvas) (0.2.0)\n",
            "Requirement already satisfied: traitlets>=4.3.1 in /usr/local/lib/python3.11/dist-packages (from ipywidgets<9,>=7.6.0->ipycanvas) (5.7.1)\n",
            "Requirement already satisfied: widgetsnbextension~=3.6.0 in /usr/local/lib/python3.11/dist-packages (from ipywidgets<9,>=7.6.0->ipycanvas) (3.6.10)\n",
            "Requirement already satisfied: ipython>=4.0.0 in /usr/local/lib/python3.11/dist-packages (from ipywidgets<9,>=7.6.0->ipycanvas) (7.34.0)\n",
            "Requirement already satisfied: jupyterlab-widgets>=1.0.0 in /usr/local/lib/python3.11/dist-packages (from ipywidgets<9,>=7.6.0->ipycanvas) (3.0.14)\n",
            "Requirement already satisfied: debugpy>=1.0 in /usr/local/lib/python3.11/dist-packages (from ipykernel>=4.5.1->ipywidgets<9,>=7.6.0->ipycanvas) (1.8.0)\n",
            "Requirement already satisfied: jupyter-client>=6.1.12 in /usr/local/lib/python3.11/dist-packages (from ipykernel>=4.5.1->ipywidgets<9,>=7.6.0->ipycanvas) (6.1.12)\n",
            "Requirement already satisfied: matplotlib-inline>=0.1 in /usr/local/lib/python3.11/dist-packages (from ipykernel>=4.5.1->ipywidgets<9,>=7.6.0->ipycanvas) (0.1.7)\n",
            "Requirement already satisfied: nest-asyncio in /usr/local/lib/python3.11/dist-packages (from ipykernel>=4.5.1->ipywidgets<9,>=7.6.0->ipycanvas) (1.6.0)\n",
            "Requirement already satisfied: packaging in /usr/local/lib/python3.11/dist-packages (from ipykernel>=4.5.1->ipywidgets<9,>=7.6.0->ipycanvas) (24.2)\n",
            "Requirement already satisfied: psutil in /usr/local/lib/python3.11/dist-packages (from ipykernel>=4.5.1->ipywidgets<9,>=7.6.0->ipycanvas) (5.9.5)\n",
            "Requirement already satisfied: pyzmq>=17 in /usr/local/lib/python3.11/dist-packages (from ipykernel>=4.5.1->ipywidgets<9,>=7.6.0->ipycanvas) (24.0.1)\n",
            "Requirement already satisfied: tornado>=6.1 in /usr/local/lib/python3.11/dist-packages (from ipykernel>=4.5.1->ipywidgets<9,>=7.6.0->ipycanvas) (6.4.2)\n",
            "Requirement already satisfied: setuptools>=18.5 in /usr/local/lib/python3.11/dist-packages (from ipython>=4.0.0->ipywidgets<9,>=7.6.0->ipycanvas) (75.2.0)\n",
            "Collecting jedi>=0.16 (from ipython>=4.0.0->ipywidgets<9,>=7.6.0->ipycanvas)\n",
            "  Downloading jedi-0.19.2-py2.py3-none-any.whl.metadata (22 kB)\n",
            "Requirement already satisfied: decorator in /usr/local/lib/python3.11/dist-packages (from ipython>=4.0.0->ipywidgets<9,>=7.6.0->ipycanvas) (4.4.2)\n",
            "Requirement already satisfied: pickleshare in /usr/local/lib/python3.11/dist-packages (from ipython>=4.0.0->ipywidgets<9,>=7.6.0->ipycanvas) (0.7.5)\n",
            "Requirement already satisfied: prompt-toolkit!=3.0.0,!=3.0.1,<3.1.0,>=2.0.0 in /usr/local/lib/python3.11/dist-packages (from ipython>=4.0.0->ipywidgets<9,>=7.6.0->ipycanvas) (3.0.51)\n",
            "Requirement already satisfied: pygments in /usr/local/lib/python3.11/dist-packages (from ipython>=4.0.0->ipywidgets<9,>=7.6.0->ipycanvas) (2.18.0)\n",
            "Requirement already satisfied: backcall in /usr/local/lib/python3.11/dist-packages (from ipython>=4.0.0->ipywidgets<9,>=7.6.0->ipycanvas) (0.2.0)\n",
            "Requirement already satisfied: pexpect>4.3 in /usr/local/lib/python3.11/dist-packages (from ipython>=4.0.0->ipywidgets<9,>=7.6.0->ipycanvas) (4.9.0)\n",
            "Requirement already satisfied: notebook>=4.4.1 in /usr/local/lib/python3.11/dist-packages (from widgetsnbextension~=3.6.0->ipywidgets<9,>=7.6.0->ipycanvas) (6.5.7)\n",
            "Requirement already satisfied: parso<0.9.0,>=0.8.4 in /usr/local/lib/python3.11/dist-packages (from jedi>=0.16->ipython>=4.0.0->ipywidgets<9,>=7.6.0->ipycanvas) (0.8.4)\n",
            "Requirement already satisfied: jupyter-core>=4.6.0 in /usr/local/lib/python3.11/dist-packages (from jupyter-client>=6.1.12->ipykernel>=4.5.1->ipywidgets<9,>=7.6.0->ipycanvas) (5.7.2)\n",
            "Requirement already satisfied: python-dateutil>=2.1 in /usr/local/lib/python3.11/dist-packages (from jupyter-client>=6.1.12->ipykernel>=4.5.1->ipywidgets<9,>=7.6.0->ipycanvas) (2.8.2)\n",
            "Requirement already satisfied: jinja2 in /usr/local/lib/python3.11/dist-packages (from notebook>=4.4.1->widgetsnbextension~=3.6.0->ipywidgets<9,>=7.6.0->ipycanvas) (3.1.6)\n",
            "Requirement already satisfied: argon2-cffi in /usr/local/lib/python3.11/dist-packages (from notebook>=4.4.1->widgetsnbextension~=3.6.0->ipywidgets<9,>=7.6.0->ipycanvas) (23.1.0)\n",
            "Requirement already satisfied: nbformat in /usr/local/lib/python3.11/dist-packages (from notebook>=4.4.1->widgetsnbextension~=3.6.0->ipywidgets<9,>=7.6.0->ipycanvas) (5.10.4)\n",
            "Requirement already satisfied: nbconvert>=5 in /usr/local/lib/python3.11/dist-packages (from notebook>=4.4.1->widgetsnbextension~=3.6.0->ipywidgets<9,>=7.6.0->ipycanvas) (7.16.6)\n",
            "Requirement already satisfied: Send2Trash>=1.8.0 in /usr/local/lib/python3.11/dist-packages (from notebook>=4.4.1->widgetsnbextension~=3.6.0->ipywidgets<9,>=7.6.0->ipycanvas) (1.8.3)\n",
            "Requirement already satisfied: terminado>=0.8.3 in /usr/local/lib/python3.11/dist-packages (from notebook>=4.4.1->widgetsnbextension~=3.6.0->ipywidgets<9,>=7.6.0->ipycanvas) (0.18.1)\n",
            "Requirement already satisfied: prometheus-client in /usr/local/lib/python3.11/dist-packages (from notebook>=4.4.1->widgetsnbextension~=3.6.0->ipywidgets<9,>=7.6.0->ipycanvas) (0.21.1)\n",
            "Requirement already satisfied: nbclassic>=0.4.7 in /usr/local/lib/python3.11/dist-packages (from notebook>=4.4.1->widgetsnbextension~=3.6.0->ipywidgets<9,>=7.6.0->ipycanvas) (1.2.0)\n",
            "Requirement already satisfied: ptyprocess>=0.5 in /usr/local/lib/python3.11/dist-packages (from pexpect>4.3->ipython>=4.0.0->ipywidgets<9,>=7.6.0->ipycanvas) (0.7.0)\n",
            "Requirement already satisfied: wcwidth in /usr/local/lib/python3.11/dist-packages (from prompt-toolkit!=3.0.0,!=3.0.1,<3.1.0,>=2.0.0->ipython>=4.0.0->ipywidgets<9,>=7.6.0->ipycanvas) (0.2.13)\n",
            "Requirement already satisfied: platformdirs>=2.5 in /usr/local/lib/python3.11/dist-packages (from jupyter-core>=4.6.0->jupyter-client>=6.1.12->ipykernel>=4.5.1->ipywidgets<9,>=7.6.0->ipycanvas) (4.3.7)\n",
            "Requirement already satisfied: notebook-shim>=0.2.3 in /usr/local/lib/python3.11/dist-packages (from nbclassic>=0.4.7->notebook>=4.4.1->widgetsnbextension~=3.6.0->ipywidgets<9,>=7.6.0->ipycanvas) (0.2.4)\n",
            "Requirement already satisfied: beautifulsoup4 in /usr/local/lib/python3.11/dist-packages (from nbconvert>=5->notebook>=4.4.1->widgetsnbextension~=3.6.0->ipywidgets<9,>=7.6.0->ipycanvas) (4.13.4)\n",
            "Requirement already satisfied: bleach!=5.0.0 in /usr/local/lib/python3.11/dist-packages (from bleach[css]!=5.0.0->nbconvert>=5->notebook>=4.4.1->widgetsnbextension~=3.6.0->ipywidgets<9,>=7.6.0->ipycanvas) (6.2.0)\n",
            "Requirement already satisfied: defusedxml in /usr/local/lib/python3.11/dist-packages (from nbconvert>=5->notebook>=4.4.1->widgetsnbextension~=3.6.0->ipywidgets<9,>=7.6.0->ipycanvas) (0.7.1)\n",
            "Requirement already satisfied: jupyterlab-pygments in /usr/local/lib/python3.11/dist-packages (from nbconvert>=5->notebook>=4.4.1->widgetsnbextension~=3.6.0->ipywidgets<9,>=7.6.0->ipycanvas) (0.3.0)\n",
            "Requirement already satisfied: markupsafe>=2.0 in /usr/local/lib/python3.11/dist-packages (from nbconvert>=5->notebook>=4.4.1->widgetsnbextension~=3.6.0->ipywidgets<9,>=7.6.0->ipycanvas) (3.0.2)\n",
            "Requirement already satisfied: mistune<4,>=2.0.3 in /usr/local/lib/python3.11/dist-packages (from nbconvert>=5->notebook>=4.4.1->widgetsnbextension~=3.6.0->ipywidgets<9,>=7.6.0->ipycanvas) (3.1.3)\n",
            "Requirement already satisfied: nbclient>=0.5.0 in /usr/local/lib/python3.11/dist-packages (from nbconvert>=5->notebook>=4.4.1->widgetsnbextension~=3.6.0->ipywidgets<9,>=7.6.0->ipycanvas) (0.10.2)\n",
            "Requirement already satisfied: pandocfilters>=1.4.1 in /usr/local/lib/python3.11/dist-packages (from nbconvert>=5->notebook>=4.4.1->widgetsnbextension~=3.6.0->ipywidgets<9,>=7.6.0->ipycanvas) (1.5.1)\n",
            "Requirement already satisfied: fastjsonschema>=2.15 in /usr/local/lib/python3.11/dist-packages (from nbformat->notebook>=4.4.1->widgetsnbextension~=3.6.0->ipywidgets<9,>=7.6.0->ipycanvas) (2.21.1)\n",
            "Requirement already satisfied: jsonschema>=2.6 in /usr/local/lib/python3.11/dist-packages (from nbformat->notebook>=4.4.1->widgetsnbextension~=3.6.0->ipywidgets<9,>=7.6.0->ipycanvas) (4.23.0)\n",
            "Requirement already satisfied: six>=1.5 in /usr/local/lib/python3.11/dist-packages (from python-dateutil>=2.1->jupyter-client>=6.1.12->ipykernel>=4.5.1->ipywidgets<9,>=7.6.0->ipycanvas) (1.17.0)\n",
            "Requirement already satisfied: argon2-cffi-bindings in /usr/local/lib/python3.11/dist-packages (from argon2-cffi->notebook>=4.4.1->widgetsnbextension~=3.6.0->ipywidgets<9,>=7.6.0->ipycanvas) (21.2.0)\n",
            "Requirement already satisfied: webencodings in /usr/local/lib/python3.11/dist-packages (from bleach!=5.0.0->bleach[css]!=5.0.0->nbconvert>=5->notebook>=4.4.1->widgetsnbextension~=3.6.0->ipywidgets<9,>=7.6.0->ipycanvas) (0.5.1)\n",
            "Requirement already satisfied: tinycss2<1.5,>=1.1.0 in /usr/local/lib/python3.11/dist-packages (from bleach[css]!=5.0.0->nbconvert>=5->notebook>=4.4.1->widgetsnbextension~=3.6.0->ipywidgets<9,>=7.6.0->ipycanvas) (1.4.0)\n",
            "Requirement already satisfied: attrs>=22.2.0 in /usr/local/lib/python3.11/dist-packages (from jsonschema>=2.6->nbformat->notebook>=4.4.1->widgetsnbextension~=3.6.0->ipywidgets<9,>=7.6.0->ipycanvas) (25.3.0)\n",
            "Requirement already satisfied: jsonschema-specifications>=2023.03.6 in /usr/local/lib/python3.11/dist-packages (from jsonschema>=2.6->nbformat->notebook>=4.4.1->widgetsnbextension~=3.6.0->ipywidgets<9,>=7.6.0->ipycanvas) (2024.10.1)\n",
            "Requirement already satisfied: referencing>=0.28.4 in /usr/local/lib/python3.11/dist-packages (from jsonschema>=2.6->nbformat->notebook>=4.4.1->widgetsnbextension~=3.6.0->ipywidgets<9,>=7.6.0->ipycanvas) (0.36.2)\n",
            "Requirement already satisfied: rpds-py>=0.7.1 in /usr/local/lib/python3.11/dist-packages (from jsonschema>=2.6->nbformat->notebook>=4.4.1->widgetsnbextension~=3.6.0->ipywidgets<9,>=7.6.0->ipycanvas) (0.24.0)\n",
            "Requirement already satisfied: jupyter-server<3,>=1.8 in /usr/local/lib/python3.11/dist-packages (from notebook-shim>=0.2.3->nbclassic>=0.4.7->notebook>=4.4.1->widgetsnbextension~=3.6.0->ipywidgets<9,>=7.6.0->ipycanvas) (1.16.0)\n",
            "Requirement already satisfied: cffi>=1.0.1 in /usr/local/lib/python3.11/dist-packages (from argon2-cffi-bindings->argon2-cffi->notebook>=4.4.1->widgetsnbextension~=3.6.0->ipywidgets<9,>=7.6.0->ipycanvas) (1.17.1)\n",
            "Requirement already satisfied: soupsieve>1.2 in /usr/local/lib/python3.11/dist-packages (from beautifulsoup4->nbconvert>=5->notebook>=4.4.1->widgetsnbextension~=3.6.0->ipywidgets<9,>=7.6.0->ipycanvas) (2.7)\n",
            "Requirement already satisfied: typing-extensions>=4.0.0 in /usr/local/lib/python3.11/dist-packages (from beautifulsoup4->nbconvert>=5->notebook>=4.4.1->widgetsnbextension~=3.6.0->ipywidgets<9,>=7.6.0->ipycanvas) (4.13.2)\n",
            "Requirement already satisfied: pycparser in /usr/local/lib/python3.11/dist-packages (from cffi>=1.0.1->argon2-cffi-bindings->argon2-cffi->notebook>=4.4.1->widgetsnbextension~=3.6.0->ipywidgets<9,>=7.6.0->ipycanvas) (2.22)\n",
            "Requirement already satisfied: anyio>=3.1.0 in /usr/local/lib/python3.11/dist-packages (from jupyter-server<3,>=1.8->notebook-shim>=0.2.3->nbclassic>=0.4.7->notebook>=4.4.1->widgetsnbextension~=3.6.0->ipywidgets<9,>=7.6.0->ipycanvas) (4.9.0)\n",
            "Requirement already satisfied: websocket-client in /usr/local/lib/python3.11/dist-packages (from jupyter-server<3,>=1.8->notebook-shim>=0.2.3->nbclassic>=0.4.7->notebook>=4.4.1->widgetsnbextension~=3.6.0->ipywidgets<9,>=7.6.0->ipycanvas) (1.8.0)\n",
            "Requirement already satisfied: idna>=2.8 in /usr/local/lib/python3.11/dist-packages (from anyio>=3.1.0->jupyter-server<3,>=1.8->notebook-shim>=0.2.3->nbclassic>=0.4.7->notebook>=4.4.1->widgetsnbextension~=3.6.0->ipywidgets<9,>=7.6.0->ipycanvas) (3.10)\n",
            "Requirement already satisfied: sniffio>=1.1 in /usr/local/lib/python3.11/dist-packages (from anyio>=3.1.0->jupyter-server<3,>=1.8->notebook-shim>=0.2.3->nbclassic>=0.4.7->notebook>=4.4.1->widgetsnbextension~=3.6.0->ipywidgets<9,>=7.6.0->ipycanvas) (1.3.1)\n",
            "Downloading ipycanvas-0.13.3-py2.py3-none-any.whl (125 kB)\n",
            "\u001b[2K   \u001b[90m━━━━━━━━━━━━━━━━━━━━━━━━━━━━━━━━━━━━━━━━\u001b[0m \u001b[32m125.8/125.8 kB\u001b[0m \u001b[31m5.8 MB/s\u001b[0m eta \u001b[36m0:00:00\u001b[0m\n",
            "\u001b[?25hDownloading jedi-0.19.2-py2.py3-none-any.whl (1.6 MB)\n",
            "\u001b[2K   \u001b[90m━━━━━━━━━━━━━━━━━━━━━━━━━━━━━━━━━━━━━━━━\u001b[0m \u001b[32m1.6/1.6 MB\u001b[0m \u001b[31m43.0 MB/s\u001b[0m eta \u001b[36m0:00:00\u001b[0m\n",
            "\u001b[?25hInstalling collected packages: jedi, ipycanvas\n",
            "Successfully installed ipycanvas-0.13.3 jedi-0.19.2\n"
          ]
        }
      ]
    },
    {
      "cell_type": "code",
      "source": [
        "from google.colab import output\n",
        "output.enable_custom_widget_manager()"
      ],
      "metadata": {
        "id": "sxZUu9XhudcS",  
        "state": {}
      },
      "execution_count": 5,
      "outputs": []
    },
    {
      "cell_type": "code",
      "source": [
        "from ipycanvas import Canvas, hold_canvas\n",
        "from IPython.display import display\n",
        "import numpy as np\n",
        "\n",
        "# Canvas size\n",
        "width, height = 600, 400\n",
        "cell_size = 20\n",
        "\n",
        "# Grid size\n",
        "cols = width // cell_size\n",
        "rows = height // cell_size\n",
        "\n",
        "# Create canvas\n",
        "canvas = Canvas(width=width, height=height)\n",
        "display(canvas)\n",
        "\n",
        "# Fill canvas with blue grid\n",
        "colors = np.full((rows, cols), 'blue', dtype='<U5')\n",
        "\n",
        "def draw_grid():\n",
        "    with hold_canvas(canvas):\n",
        "        for y in range(rows):\n",
        "            for x in range(cols):\n",
        "                canvas.fill_style = colors[y, x]\n",
        "                canvas.fill_rect(x * cell_size, y * cell_size, cell_size, cell_size)\n",
        "\n",
        "draw_grid()\n",
        "\n",
        "# Eraser settings\n",
        "eraser_size = 40  # in pixels\n",
        "\n",
        "# Mouse event handler\n",
        "def on_mouse_move(x, y):\n",
        "    x_cell = x // cell_size\n",
        "    y_cell = y // cell_size\n",
        "\n",
        "    eraser_radius = eraser_size // cell_size  # convert pixels to cell units\n",
        "\n",
        "    for dy in range(-eraser_radius, eraser_radius + 1):\n",
        "        for dx in range(-eraser_radius, eraser_radius + 1):\n",
        "            cx = int(x_cell + dx)\n",
        "            cy = int(y_cell + dy)\n",
        "            if 0 <= cx < cols and 0 <= cy < rows:\n",
        "                colors[cy, cx] = 'white'\n",
        "\n",
        "    draw_grid()\n",
        "\n",
        "canvas.on_mouse_move(on_mouse_move)\n"
      ],
      "metadata": {
        "colab": {
          "base_uri": "https://localhost:8080/",
          "height": 422,
          "referenced_widgets": [
            "54661dca4a0e4a0aa4e2d15206a8c732",
            "69cb1c80fb2b41b8a0234ee64fa20cd1",
            "88ac6c784b624244bc9d87e98fee11ad"
          ]
        },
        "id": "vcvlhmgVV-ri",
        "outputId": "4f755278-f37e-4cb6-afcf-e96939c9fb58"
      },
      "execution_count": 7,
      "outputs": [
        {
          "output_type": "display_data",
          "data": {
            "text/plain": [
              "Canvas(height=400, width=600)"
            ],
            "application/vnd.jupyter.widget-view+json": {
              "version_major": 2,
              "version_minor": 0,
              "model_id": "54661dca4a0e4a0aa4e2d15206a8c732"
            }
          },
          "metadata": {
            "application/vnd.jupyter.widget-view+json": {
              "colab": {
                "custom_widget_manager": {
                  "url": "https://ssl.gstatic.com/colaboratory-static/widgets/colab-cdn-widget-manager/2b70e893a8ba7c0f/manager.min.js"
                }
              }
            }
          }
        }
      ]
    },
    {
      "cell_type": "markdown",
      "source": [
        "***04_flowing_with_data_structures***"
      ],
      "metadata": {
        "id": "Hg5RC6iavhoD"
      }
    },
    {
      "cell_type": "markdown",
      "metadata": {
        "id": "mGRGLEgzijU2"
      },
      "source": [
        "In the information flow lesson, we discussed using a variable storing a number as an example of scope. We saw that changes we made to the number inside a function did not stay unless we returned it. This is true for what we call immutable data types which include things like numbers and strings.\n",
        "\n",
        "However, there are also mutable data types where changes stay even if we don't return anything. Some examples of mutable data types are lists and dictionaries. This means that you should be mindful when modifying lists and dictionaries within helper functions since their changes stay whether or not you return them.\n",
        "\n",
        "To see this in action, fill out the add_three_copies(...) function which takes a list and some data and then adds three copies of the data to the list. Don't return anything and see what happens! Compare this process to the x = change(x) example and note the differences.\n",
        "\n",
        "Here is an example run of this program (user input in bold italics):\n",
        "\n",
        "Enter a message to copy: Hello world!\n",
        "\n",
        "List before: []\n",
        "\n",
        "List after: ['Hello world!', 'Hello world!', 'Hello world!']\n",
        "\n",
        "(Note. The concept of immutable/mutable data types is called mutability. Be careful because different programming languages have different rules regarding mutability!)"
      ]
    },
    {
      "cell_type": "code",
      "execution_count": null,
      "metadata": {
        "colab": {
          "base_uri": "https://localhost:8080/"
        },
        "id": "c7ZcWoSoiw-B",
        "outputId": "83d7ac64-46cd-4b67-9695-e0c152a138cd"
      },
      "outputs": [
        {
          "name": "stdout",
          "output_type": "stream",
          "text": [
            "plz enter a message to copyAsma masood,12345\n",
            "before:[]\n",
            "after:['Asma masood,12345', 'Asma masood,12345', 'Asma masood,12345']\n"
          ]
        }
      ],
      "source": [
        "def add_3_no(my_list,data):\n",
        "    for i in range(3):\n",
        "       my_list.append(data)\n",
        "def main():\n",
        "    user=input(\"plz enter a message to copy\")\n",
        "    my_list=[]\n",
        "    print(f\"before:{my_list}\")\n",
        "    add_3_no(my_list,user)\n",
        "    print(f\"after:{my_list}\")\n",
        "if __name__=='__main__':\n",
        "    main()"
      ]
    },
    {
      "cell_type": "markdown",
      "metadata": {
        "id": "vC2N55gH4925"
      },
      "source": [
        "***05_get_first_element***"
      ]
    },
    {
      "cell_type": "markdown",
      "metadata": {
        "id": "gQ-D2wCd5H4D"
      },
      "source": [
        "Fill out the function get_first_element(lst) which takes in a list lst as a parameter and prints the first element in the list. The list is guaranteed to be non-empty. We've written some code for you which prompts the user to input the list one element at a time."
      ]
    },
    {
      "cell_type": "code",
      "execution_count": null,
      "metadata": {
        "colab": {
          "base_uri": "https://localhost:8080/"
        },
        "id": "gnklZk9aBD3a",
        "outputId": "3b2facba-5af2-4076-80be-233ff1a0082a"
      },
      "outputs": [
        {
          "name": "stdout",
          "output_type": "stream",
          "text": [
            "Enter an element of the list OR press enter to stop: 12,32,34\n",
            "Enter an element of the list OR press enter to stop: abcd\n",
            "Enter an element of the list OR press enter to stop: hello\n",
            "Enter an element of the list OR press enter to stop: check krte hain\n",
            "Enter an element of the list OR press enter to stop: \n",
            "The first element is: 12,32,34\n"
          ]
        }
      ],
      "source": [
        "def get_first_element():\n",
        "    first_element_list = []\n",
        "    user = input(\"Enter an element of the list OR press enter to stop: \")\n",
        "\n",
        "    while user != \"\":\n",
        "        first_element_list.append(user)\n",
        "        user = input(\"Enter an element of the list OR press enter to stop: \")\n",
        "\n",
        "    return first_element_list[0]  # pehla element return karo\n",
        "\n",
        "def main():\n",
        "    first = get_first_element()  # function ko call karo aur result lo\n",
        "    print(f\"The first element is: {first}\")\n",
        "\n",
        "if __name__ == '__main__':\n",
        "    main()\n"
      ]
    },
    {
      "cell_type": "markdown",
      "metadata": {
        "id": "UW84RqsIDFX1"
      },
      "source": [
        "***06_get_last_element***"
      ]
    },
    {
      "cell_type": "markdown",
      "metadata": {
        "id": "C9XtNQX3DHjW"
      },
      "source": [
        "Fill out the function get_last_element(lst) which takes in a list lst as a parameter and prints the last element in the list. The list is guaranteed to be non-empty, but there are no guarantees on its length."
      ]
    },
    {
      "cell_type": "code",
      "execution_count": null,
      "metadata": {
        "colab": {
          "base_uri": "https://localhost:8080/"
        },
        "id": "heMhBHOUDLtm",
        "outputId": "e00222c4-9290-428c-8321-f245e5334c3b"
      },
      "outputs": [
        {
          "name": "stdout",
          "output_type": "stream",
          "text": [
            "Enter an element of the list OR press enter to stop: asma\n",
            "Enter an element of the list OR press enter to stop: saba\n",
            "Enter an element of the list OR press enter to stop: ani\n",
            "Enter an element of the list OR press enter to stop: kanwal\n",
            "Enter an element of the list OR press enter to stop: maha\n",
            "Enter an element of the list OR press enter to stop: tuba\n",
            "Enter an element of the list OR press enter to stop: barka\n",
            "Enter an element of the list OR press enter to stop: \n",
            "The last element is: barka\n"
          ]
        }
      ],
      "source": [
        "def get_last_element():\n",
        "    my_list = []\n",
        "    user = input(\"Enter an element of the list OR press enter to stop: \")\n",
        "    while user != \"\":\n",
        "        my_list.append(user)\n",
        "        user = input(\"Enter an element of the list OR press enter to stop: \")\n",
        "    return my_list[-1]\n",
        "def main():\n",
        "    last = get_last_element()\n",
        "    print(f\"The last element is: {last}\")\n",
        "\n",
        "if __name__ == '__main__':\n",
        "    main()"
      ]
    },
    {
      "cell_type": "markdown",
      "metadata": {
        "id": "qB9GMnyYGyxh"
      },
      "source": [
        "***07_get_list***"
      ]
    },
    {
      "cell_type": "markdown",
      "metadata": {
        "id": "RJ1fo8-nG1Bv"
      },
      "source": [
        "Write a program which continuously asks the user to enter values which are added one by one into a list. When the user presses enter without typing anything, print the list.\n",
        "\n",
        "Here's a sample run (user input is in blue):\n",
        "\n",
        "Enter a value: 1 Enter a value: 2 Enter a value: 3 Enter a value: Here's the list: ['1', '2', '3']\n"
      ]
    },
    {
      "cell_type": "code",
      "execution_count": null,
      "metadata": {
        "colab": {
          "base_uri": "https://localhost:8080/"
        },
        "id": "9-2d35f0G8F3",
        "outputId": "5059b7d4-9ab1-45ba-bc24-d8f57dd6da60"
      },
      "outputs": [
        {
          "name": "stdout",
          "output_type": "stream",
          "text": [
            "Enter a value: 123\n",
            "Enter a value: 234\n",
            "Enter a value: 345\n",
            "Enter a value: 456\n",
            "Enter a value: 567\n",
            "Enter a value: \n",
            "Here's the list: ['123', '234', '345', '456', '567']\n"
          ]
        }
      ],
      "source": [
        "def main():\n",
        "    my_list = []\n",
        "\n",
        "    while True:\n",
        "        user = input(\"Enter a value: \")\n",
        "        if user == \"\":\n",
        "            break\n",
        "        my_list.append(user)\n",
        "\n",
        "\n",
        "    print(f\"Here's the list: {my_list}\")\n",
        "\n",
        "if __name__ == '__main__':\n",
        "    main()\n"
      ]
    },
    {
      "cell_type": "markdown",
      "metadata": {
        "id": "2EtR5nbKLVAY"
      },
      "source": [
        "***08_shorten***"
      ]
    },
    {
      "cell_type": "markdown",
      "metadata": {
        "id": "x6WQvhAFLa3h"
      },
      "source": [
        "Fill out the function shorten(lst) which removes elements from the end of lst, which is a list, and prints each item it removes until lst is MAX_LENGTH items long. If lst is already shorter than MAX_LENGTH you should leave it unchanged. We've written a main() function for you which gets a list and passes it into your function once you run the program. For the autograder to pass you will need MAX_LENGTH to be 3, but feel free to change it around to test your program."
      ]
    },
    {
      "cell_type": "code",
      "execution_count": null,
      "metadata": {
        "colab": {
          "base_uri": "https://localhost:8080/"
        },
        "id": "RFM0breTLg4M",
        "outputId": "66e4e167-00cb-44c5-bc57-7b311d56734f"
      },
      "outputs": [
        {
          "name": "stdout",
          "output_type": "stream",
          "text": [
            "Please enter an element of the list or press enter to stop: 1\n",
            "Please enter an element of the list or press enter to stop: 2\n",
            "Please enter an element of the list or press enter to stop: 3\n",
            "Please enter an element of the list or press enter to stop: 4\n",
            "Please enter an element of the list or press enter to stop: 5\n",
            "Please enter an element of the list or press enter to stop: 6\n",
            "Please enter an element of the list or press enter to stop: 7\n",
            "Please enter an element of the list or press enter to stop: \n",
            "Removed: 7\n",
            "Removed: 6\n",
            "Removed: 5\n",
            "Removed: 4\n",
            "Final list: ['1', '2', '3']\n"
          ]
        }
      ],
      "source": [
        "MAX_LENGTH = 3\n",
        "\n",
        "def shorten(lst):\n",
        "    while len(lst) > MAX_LENGTH:\n",
        "        removed = lst.pop()  # aakhri element hatao\n",
        "        print(f\"Removed: {removed}\")\n",
        "\n",
        "# ---- Provided code ----\n",
        "\n",
        "def get_lst():\n",
        "    lst = []\n",
        "    elem = input(\"Please enter an element of the list or press enter to stop: \")\n",
        "    while elem != \"\":\n",
        "        lst.append(elem)\n",
        "        elem = input(\"Please enter an element of the list or press enter to stop: \")\n",
        "    return lst\n",
        "\n",
        "def main():\n",
        "    lst = get_lst()\n",
        "    shorten(lst)\n",
        "    print(\"Final list:\", lst)\n",
        "\n",
        "if __name__ == '__main__':\n",
        "    main()\n"
      ]
    }
  ],
  "metadata": {
    "colab": {
      "provenance": [],
      "authorship_tag": "ABX9TyMs612v0h4gmDxh/0t6lsmF",
      "include_colab_link": true
    },
    "kernelspec": {
      "display_name": "Python 3",
      "name": "python3"
    },
    "language_info": {
      "name": "python"
    },
    "widgets": {
      "application/vnd.jupyter.widget-state+json": {
        "54661dca4a0e4a0aa4e2d15206a8c732": {
          "model_module": "ipycanvas",
          "model_name": "CanvasModel",
          "model_module_version": "^0.13",
          "state": {
            "_canvas_manager": "IPY_MODEL_69cb1c80fb2b41b8a0234ee64fa20cd1",
            "_dom_classes": [],
            "_model_module": "ipycanvas",
            "_model_module_version": "^0.13",
            "_model_name": "CanvasModel",
            "_send_client_ready_event": true,
            "_view_count": null,
            "_view_module": "ipycanvas",
            "_view_module_version": "^0.13",
            "_view_name": "CanvasView",
            "height": 400,
            "image_data": null,
            "layout": "IPY_MODEL_88ac6c784b624244bc9d87e98fee11ad",
            "sync_image_data": false,
            "width": 600
          }
        },
        "69cb1c80fb2b41b8a0234ee64fa20cd1": {
          "model_module": "ipycanvas",
          "model_name": "CanvasManagerModel",
          "model_module_version": "^0.13",
          "state": {
            "_model_module": "ipycanvas",
            "_model_module_version": "^0.13",
            "_model_name": "CanvasManagerModel",
            "_view_count": null,
            "_view_module": null,
            "_view_module_version": "",
            "_view_name": null
          }
        },
        "88ac6c784b624244bc9d87e98fee11ad": {
          "model_module": "@jupyter-widgets/base",
          "model_name": "LayoutModel",
          "model_module_version": "1.2.0",
          "state": {
            "_model_module": "@jupyter-widgets/base",
            "_model_module_version": "1.2.0",
            "_model_name": "LayoutModel",
            "_view_count": null,
            "_view_module": "@jupyter-widgets/base",
            "_view_module_version": "1.2.0",
            "_view_name": "LayoutView",
            "align_content": null,
            "align_items": null,
            "align_self": null,
            "border": null,
            "bottom": null,
            "display": null,
            "flex": null,
            "flex_flow": null,
            "grid_area": null,
            "grid_auto_columns": null,
            "grid_auto_flow": null,
            "grid_auto_rows": null,
            "grid_column": null,
            "grid_gap": null,
            "grid_row": null,
            "grid_template_areas": null,
            "grid_template_columns": null,
            "grid_template_rows": null,
            "height": null,
            "justify_content": null,
            "justify_items": null,
            "left": null,
            "margin": null,
            "max_height": null,
            "max_width": null,
            "min_height": null,
            "min_width": null,
            "object_fit": null,
            "object_position": null,
            "order": null,
            "overflow": null,
            "overflow_x": null,
            "overflow_y": null,
            "padding": null,
            "right": null,
            "top": null,
            "visibility": null,
            "width": null
          }
        }
      }
    }
  },
  "nbformat": 4,
  "nbformat_minor": 0
}
