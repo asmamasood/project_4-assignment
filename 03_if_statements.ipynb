{
  "nbformat": 4,
  "nbformat_minor": 0,
  "metadata": {
    "colab": {
      "provenance": [],
      "authorship_tag": "ABX9TyMmcIaftxsjTrL18TMRdkva",
      "include_colab_link": true
    },
    "kernelspec": {
      "name": "python3",
      "display_name": "Python 3"
    },
    "language_info": {
      "name": "python"
    }
  },
  "cells": [
    {
      "cell_type": "markdown",
      "metadata": {
        "id": "view-in-github",
        "colab_type": "text"
      },
      "source": [
        "<a href=\"https://colab.research.google.com/github/asmamasood/project_4-assignment/blob/main/03_if_statements.ipynb\" target=\"_parent\"><img src=\"https://colab.research.google.com/assets/colab-badge.svg\" alt=\"Open In Colab\"/></a>"
      ]
    },
    {
      "cell_type": "markdown",
      "source": [
        "***01_print_events***"
      ],
      "metadata": {
        "id": "6QFvgvSUBfZc"
      }
    },
    {
      "cell_type": "markdown",
      "source": [
        "Write a program that prints the first 20 even numbers. There are several correct approaches, but they all use a loop of some sort. Do no write twenty print statements\n",
        "\n",
        "The first even number is 0:\n",
        "\n",
        "0 2 4 6 8 10 12 14 16 18 20 22 24 26 28 30 32 34 36 38"
      ],
      "metadata": {
        "id": "fX1lT6fpBqpR"
      }
    },
    {
      "cell_type": "code",
      "execution_count": 6,
      "metadata": {
        "colab": {
          "base_uri": "https://localhost:8080/"
        },
        "id": "Zgzrg0dtBMK2",
        "outputId": "fa29d5f2-0f06-4123-bcab-6126dff7f1d4"
      },
      "outputs": [
        {
          "output_type": "stream",
          "name": "stdout",
          "text": [
            "0\n",
            "2\n",
            "4\n",
            "6\n",
            "8\n",
            "10\n",
            "12\n",
            "14\n",
            "16\n",
            "18\n",
            "20\n",
            "22\n",
            "24\n",
            "26\n",
            "28\n",
            "30\n",
            "32\n",
            "34\n",
            "36\n",
            "38\n"
          ]
        }
      ],
      "source": [
        "def main():\n",
        "    for i in range(20):\n",
        "        print(i*2)\n",
        "if __name__ == \"__main__\":\n",
        "    main()\n"
      ]
    },
    {
      "cell_type": "markdown",
      "source": [
        "***02_international_voting_age***"
      ],
      "metadata": {
        "id": "azyInsjzTluM"
      }
    },
    {
      "cell_type": "markdown",
      "source": [
        "Write a program which asks a user for their age and lets them know if they can or can't vote in the following three fictional countries.\n",
        "\n",
        "Around the world, different countries have different voting ages. In the fictional countries of Peturksbouipo, Stanlau, and Mayengua, the voting ages are very different:\n",
        "\n",
        "the voting age in Peturksbouipo is 16 (in real life, this is the voting age in, for example, Scotland, Ethiopia, and Austria)\n",
        "\n",
        "the voting age in Stanlau is 25 (in real life this is the voting age in the United Arab Emirates)\n",
        "\n",
        "the voting age in Mayengua is 48 (in real life, as far as we can tell, this isn't the voting age anywhere)\n",
        "\n",
        "Your code should prompt the for their age and print whether or not they can vote in Peturksbouipo, Stanlau, or Mayengua.\n",
        "\n",
        "Here's a sample run of the program (user input is in blue):\n",
        "\n",
        "How old are you? 20 You can vote in Peturksbouipo where the voting age is 16. You cannot vote in Stanlau where the voting age is 25. You cannot vote in Mayengua where the voting age is 48."
      ],
      "metadata": {
        "id": "YBqqhJqBTVic"
      }
    },
    {
      "cell_type": "code",
      "source": [
        "def main():\n",
        "  age=int(input(\"how old are you?:\"))\n",
        "  if age>=16:\n",
        "    print(\"you can vote in peturksbouipo where the voting age is 16\")\n",
        "  else:\n",
        "    print(\"you cannot vote in peturksbouipo where the voting age is 16\")\n",
        "  if age>=25:\n",
        "    print(\"you can vote in Stanlau where the voting age is 25\")\n",
        "  else:\n",
        "    print(\"you cannot vote in Stanlau where the voting age is 25\")\n",
        "  if age>= 48:\n",
        "    print(\"you can vote in Mayengua where the voting age is 48\")\n",
        "  else:\n",
        "    print(\"you cannot vote in Mayengua where the voting age is 48\")\n",
        "if __name__ == '__main__':\n",
        "  main()"
      ],
      "metadata": {
        "colab": {
          "base_uri": "https://localhost:8080/"
        },
        "id": "IqAeo3wfTp1h",
        "outputId": "2cd65fb0-e087-442d-b675-26a0e1be3215"
      },
      "execution_count": 9,
      "outputs": [
        {
          "output_type": "stream",
          "name": "stdout",
          "text": [
            "how old are you?:28\n",
            "you can vote in peturksbouipo where the voting age is 16\n",
            "you can vote in Stanlau where the voting age is 25\n",
            "you cannot vote in Mayengua where the voting age is 48\n"
          ]
        }
      ]
    },
    {
      "cell_type": "markdown",
      "source": [
        "***03_leap_year***"
      ],
      "metadata": {
        "id": "G1bijYtFW_Nx"
      }
    },
    {
      "cell_type": "markdown",
      "source": [
        "Write a program that reads a year from the user and tells whether a given year is a leap year or not.\n",
        "\n",
        "A leap year (also known as an intercalary year or bissextile year) is a calendar year that contains an additional day (or, in the case of a lunisolar calendar, a month) added to keep the calendar year synchronized with the astronomical year or seasonal year. In the Gregorian calendar, each leap year has 366 days instead of 365, by extending February to 29 days rather than the common 28.\n",
        "\n",
        "In the Gregorian calendar, three criteria must be checked to identify leap years:\n",
        "\n",
        "The given year must be evenly divisible by 4;\n",
        "If the year can also be evenly divided by 100, it is NOT a leap year; unless:\n",
        "The year is also evenly divisible by 400. Then it is a leap year.\n",
        "Your code should use the above criteria to check for a leap year and then print either \"That's a leap year!\" or \"That's not a leap year.\""
      ],
      "metadata": {
        "id": "aEXz1QVDW9Tn"
      }
    },
    {
      "cell_type": "code",
      "source": [
        "def main():\n",
        "  year=int(input(\"plz enter the year:\"))\n",
        "  if year % 4 == 0:\n",
        "    if year % 100 == 0:\n",
        "      if year % 400 == 0:\n",
        "        print(\"That's a leap year\")\n",
        "      else:\n",
        "        print(\"That's not a leap year\")\n",
        "    else:\n",
        "      print(\"That's a leap year\")\n",
        "  else:\n",
        "    print(\"That's not a leap year\")\n",
        "if __name__ == '__main__':\n",
        "  main()\n"
      ],
      "metadata": {
        "colab": {
          "base_uri": "https://localhost:8080/"
        },
        "id": "8CF8U3rJXH9C",
        "outputId": "a231da86-5ed8-4396-ced4-eb9256a15ce8"
      },
      "execution_count": 14,
      "outputs": [
        {
          "output_type": "stream",
          "name": "stdout",
          "text": [
            "plz enter the year:2024\n",
            "That's a leap year\n"
          ]
        }
      ]
    },
    {
      "cell_type": "markdown",
      "source": [
        "***04_tall_enough_to_ride***"
      ],
      "metadata": {
        "id": "FkVeF3uacCFi"
      }
    },
    {
      "cell_type": "markdown",
      "source": [
        "Write a program which asks the user how tall they are and prints whether or not they're taller than a pre-specified minimum height.\n",
        "\n",
        "In amusement parks (ah, the good old pre-pandemic days...), rollercoasters frequently have minimum height requirements for safety reasons. Assume for now that the minimum height is 50 of whatever height unit you'd like\n",
        "\n",
        "Here's two sample runs (user input is in bold italics):\n",
        "\n",
        "How tall are you? 100\n",
        "\n",
        "You're tall enough to ride!\n",
        "\n",
        "How tall are you? 10\n",
        "\n",
        "You're not tall enough to ride, but maybe next year!\n",
        "\n",
        "(For an extra challenge, write code which will repeatedly ask a user how tall they are and tell them whether or not they're tall enough to ride, until the user doesn't enter a height at all, in which case the program stops. Curious about how to do this? See the function tall_enough_extension() in the solution code!)"
      ],
      "metadata": {
        "id": "K2Elr2zxb_yO"
      }
    },
    {
      "cell_type": "code",
      "source": [
        "def main():\n",
        "    min_height = 50\n",
        "    while True:\n",
        "        height = input(\"How tall are you?: \")\n",
        "        if height == \"\":\n",
        "            break\n",
        "        user_height = int(height)\n",
        "        if user_height >= min_height:\n",
        "            print(\"You're tall enough to ride!\")\n",
        "        else:\n",
        "            print(\"You're not tall enough to ride, but maybe next year!\")\n",
        "\n",
        "if __name__ == '__main__':\n",
        "    main()\n"
      ],
      "metadata": {
        "colab": {
          "base_uri": "https://localhost:8080/"
        },
        "id": "_oPoWXBxfNXM",
        "outputId": "0a2450ee-057a-4ece-bc8a-04ef4359fb4c"
      },
      "execution_count": 24,
      "outputs": [
        {
          "name": "stdout",
          "output_type": "stream",
          "text": [
            "How tall are you?: 25\n",
            "You're not tall enough to ride, but maybe next year!\n",
            "How tall are you?: 54\n",
            "You're tall enough to ride!\n",
            "How tall are you?: \n"
          ]
        }
      ]
    },
    {
      "cell_type": "markdown",
      "source": [
        "***05_random_numbers***"
      ],
      "metadata": {
        "id": "wM6OWsj7frRB"
      }
    },
    {
      "cell_type": "markdown",
      "source": [
        "Print 10 random numbers in the range 1 to 100.\n",
        "\n",
        "Here is an example run:\n",
        "\n",
        "45 79 61 47 52 10 16 83 19 12\n",
        "\n",
        "Each time you run your program you should get different numbers\n",
        "\n",
        "81 76 70 1 27 63 96 100 32 92\n",
        "\n",
        "Recall that the python random library has a function randint which returns an integer in the range set by the parameters (inclusive). For example this call would produce a random integer between 1 and 6, which could include 1 and could include 6:\n",
        "\n",
        "value = random.randint(1, 6)"
      ],
      "metadata": {
        "id": "kOus-9O1ftqZ"
      }
    },
    {
      "cell_type": "code",
      "source": [
        "import random\n",
        "\n",
        "for i in range(10):\n",
        "    print(random.randint(1, 100), end=\" \")\n"
      ],
      "metadata": {
        "colab": {
          "base_uri": "https://localhost:8080/"
        },
        "id": "QRFnLUlEf1jX",
        "outputId": "1b60a056-93b1-4cfc-f3ec-07b80142f2d0"
      },
      "execution_count": 27,
      "outputs": [
        {
          "output_type": "stream",
          "name": "stdout",
          "text": [
            "43 97 25 17 32 61 93 35 79 45 "
          ]
        }
      ]
    }
  ]
}