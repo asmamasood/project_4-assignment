{
  "nbformat": 4,
  "nbformat_minor": 0,
  "metadata": {
    "colab": {
      "provenance": [],
      "authorship_tag": "ABX9TyO8TIAg5yvgVIlLc59BLPFK",
      "include_colab_link": true
    },
    "kernelspec": {
      "name": "python3",
      "display_name": "Python 3"
    },
    "language_info": {
      "name": "python"
    }
  },
  "cells": [
    {
      "cell_type": "markdown",
      "metadata": {
        "id": "view-in-github",
        "colab_type": "text"
      },
      "source": [
        "<a href=\"https://colab.research.google.com/github/asmamasood/project_4-assignment/blob/main/05_loops_control_flow.ipynb\" target=\"_parent\"><img src=\"https://colab.research.google.com/assets/colab-badge.svg\" alt=\"Open In Colab\"/></a>"
      ]
    },
    {
      "cell_type": "markdown",
      "source": [
        "***00_guess_my_number***"
      ],
      "metadata": {
        "id": "843iwZDRe-fH"
      }
    },
    {
      "cell_type": "markdown",
      "source": [
        "Guess My Number\n",
        "\n",
        "I am thinking of a number between 0 and 99... Enter a guess: 50 Your guess is too high\n",
        "\n",
        "Enter a new number: 25 Your guess is too low\n",
        "\n",
        "Enter a new number: 40 Your guess is too low\n",
        "\n",
        "Enter a new number: 45 Your guess is too low\n",
        "\n",
        "Enter a new number: 48 Congrats! The number was: 48"
      ],
      "metadata": {
        "id": "CxEWa3pBfIvA"
      }
    },
    {
      "cell_type": "code",
      "execution_count": 1,
      "metadata": {
        "colab": {
          "base_uri": "https://localhost:8080/"
        },
        "id": "SvewjjyeennB",
        "outputId": "5898e585-a57d-489a-cee9-95f4fba0188b"
      },
      "outputs": [
        {
          "output_type": "stream",
          "name": "stdout",
          "text": [
            "I am thinking of a number between 0 and 99...\n",
            "Enter a guess: 34\n",
            "Your guess is too low\n",
            "Enter a guess: 23\n",
            "Your guess is too low\n",
            "Enter a guess: 67\n",
            "Your guess is too low\n",
            "Enter a guess: 87\n",
            "Your guess is too low\n",
            "Enter a guess: 89\n",
            "Your guess is too low\n",
            "Enter a guess: 98\n",
            "Your guess is too high\n",
            "Enter a guess: 92\n",
            "Your guess is too low\n",
            "Enter a guess: 95\n",
            "Your guess is too high\n",
            "Enter a guess: 93\n",
            "Congrats! The number was: 93\n"
          ]
        }
      ],
      "source": [
        "import random\n",
        "\n",
        "def guess_my_number():\n",
        "    # The computer picks a random number between 0 and 99\n",
        "    number_to_guess = random.randint(0, 99)\n",
        "    print(\"I am thinking of a number between 0 and 99...\")\n",
        "\n",
        "    # Loop for guessing attempts\n",
        "    while True:\n",
        "        # Get the user's guess\n",
        "        guess = int(input(\"Enter a guess: \"))\n",
        "\n",
        "        # Check if the guess is too high, too low, or correct\n",
        "        if guess > number_to_guess:\n",
        "            print(\"Your guess is too high\")\n",
        "        elif guess < number_to_guess:\n",
        "            print(\"Your guess is too low\")\n",
        "        else:\n",
        "            print(f\"Congrats! The number was: {number_to_guess}\")\n",
        "            break  # Exit the loop when the correct number is guessed\n",
        "\n",
        "# Call the function to start the game\n",
        "guess_my_number()\n"
      ]
    },
    {
      "cell_type": "markdown",
      "source": [
        "***01_fibonacci***"
      ],
      "metadata": {
        "id": "64VlZoojf38-"
      }
    },
    {
      "cell_type": "markdown",
      "source": [
        "Write a program to print terms in the Fibonacci sequence up to a maximum value.\n",
        "\n",
        "In the 13th century, the Italian mathematician Leonardo Fibonacci, as a way to explain the geometric growth of a population of rabbits, devised a mathematical sequence that now bears his name. The first two terms in this sequence, Fib(0) and Fib(1), are 0 and 1, and every subsequent term is the sum of the preceding two. Thus, the first several terms in the Fibonacci sequence look like this:\n",
        "\n",
        "Fib(0) = 0 Fib(1) = 1 Fib(2) = 1 = 0 + 1 Fib(3) = 2 = 1 + 1 Fib(4) = 3 = 1 + 2 Fib(5) = 5 = 2 + 3\n",
        "\n",
        "Write a program that displays the terms in the Fibonacci sequence, starting with Fib(0) and continuing as long as the terms are less than 10,000 (you should store this value as a constant!). Thus, your program should produce the following sample run:\n",
        "\n",
        "0 1 1 2 3 5 8 13 21 34 55 89 144 233 377 610 987 1597 2584 4181 6765"
      ],
      "metadata": {
        "id": "5H0-QjjOgBxa"
      }
    },
    {
      "cell_type": "code",
      "source": [
        "# Constant for the maximum value\n",
        "MAX_VALUE = 10000\n",
        "\n",
        "# First two Fibonacci numbers\n",
        "a, b = 0, 1\n",
        "\n",
        "# Print the sequence\n",
        "while a < MAX_VALUE:\n",
        "    print(a, end=\" \")\n",
        "    a, b = b, a + b  # Update values for the next iteration\n"
      ],
      "metadata": {
        "colab": {
          "base_uri": "https://localhost:8080/"
        },
        "id": "F4nUhyaVg1a3",
        "outputId": "d2760e4f-11fc-40f7-fc5b-d2e41158d26b"
      },
      "execution_count": 2,
      "outputs": [
        {
          "output_type": "stream",
          "name": "stdout",
          "text": [
            "0 1 1 2 3 5 8 13 21 34 55 89 144 233 377 610 987 1597 2584 4181 6765 "
          ]
        }
      ]
    },
    {
      "cell_type": "markdown",
      "source": [
        "***02_print_events***"
      ],
      "metadata": {
        "id": "mwmgxuqGhFng"
      }
    },
    {
      "cell_type": "markdown",
      "source": [
        "Write a program that prints the first 20 even numbers. There are several correct approaches, but they all use a loop of some sort. Do no write twenty print statements\n",
        "\n",
        "The first even number is 0:\n",
        "\n",
        "0 2 4 6 8 10 12 14 16 18 20 22 24 26 28 30 32 34 36 38"
      ],
      "metadata": {
        "id": "I4XIgPrUhM1p"
      }
    },
    {
      "cell_type": "code",
      "source": [
        "# Loop to print first 20 even numbers\n",
        "for i in range(20):\n",
        "    print(i * 2, end=\" \")\n"
      ],
      "metadata": {
        "colab": {
          "base_uri": "https://localhost:8080/"
        },
        "id": "1Q5BNDsQhVuv",
        "outputId": "f1f05591-ef69-4591-dc1d-acc987785d50"
      },
      "execution_count": 3,
      "outputs": [
        {
          "output_type": "stream",
          "name": "stdout",
          "text": [
            "0 2 4 6 8 10 12 14 16 18 20 22 24 26 28 30 32 34 36 38 "
          ]
        }
      ]
    },
    {
      "cell_type": "markdown",
      "source": [
        "***03_wholesome_machine***"
      ],
      "metadata": {
        "id": "sIfgQQTkhovK"
      }
    },
    {
      "cell_type": "markdown",
      "source": [
        "Write a program which prompts the user to type an affirmation of your choice (we'll use \"I am capable of doing anything I put my mind to.\") until they type it correctly. Sometimes, especially in the midst of such uncertain times, we just need to be reminded that we are resilient, capable, and strong; this little Python program may be able to help!\n",
        "\n",
        "Here's a sample run of the program (user input is in blue):\n",
        "\n",
        "Please type the following affirmation: I am capable of doing anything I put my mind to. Hmmm That was not the affirmation. Please type the following affirmation: I am capable of doing anything I put my mind to. I am capable of doing anything I put my mind to. That's right! :)\n",
        "\n",
        "Note that you can call input() with no prompt and it will still wait for a user to type something!"
      ],
      "metadata": {
        "id": "JbLxJ8lKhrIT"
      }
    },
    {
      "cell_type": "code",
      "source": [
        "# The affirmation we want the user to type\n",
        "affirmation = \"I am capable of doing anything I put my mind to.\"\n",
        "\n",
        "# Prompt the user until they type it correctly\n",
        "while True:\n",
        "    user_input = input(\"Please type the following affirmation: I am capable of doing anything I put my mind to.\\n\")\n",
        "\n",
        "    if user_input == affirmation:\n",
        "        print(\"That's right! :)\")\n",
        "        break  # Exit the loop when affirmation is correct\n",
        "    else:\n",
        "        print(\"Hmmm... That was not the affirmation.\")\n"
      ],
      "metadata": {
        "colab": {
          "base_uri": "https://localhost:8080/"
        },
        "id": "xKv1N2PKhykS",
        "outputId": "381c6e98-5d39-4473-93e6-7cee74991de9"
      },
      "execution_count": 4,
      "outputs": [
        {
          "output_type": "stream",
          "name": "stdout",
          "text": [
            "Please type the following affirmation: I am capable of doing anything I put my mind to.\n",
            "I believe in myself and my abilities\n",
            "Hmmm... That was not the affirmation.\n",
            "Please type the following affirmation: I am capable of doing anything I put my mind to.\n",
            " I am capable of doing anything I put my mind to\n",
            "Hmmm... That was not the affirmation.\n",
            "Please type the following affirmation: I am capable of doing anything I put my mind to.\n",
            "I am capable of doing anything I put my mind to.\n",
            "That's right! :)\n"
          ]
        }
      ]
    },
    {
      "cell_type": "markdown",
      "source": [
        "***04_liftoff***"
      ],
      "metadata": {
        "id": "oM5y23b7j398"
      }
    },
    {
      "cell_type": "markdown",
      "source": [
        "Write a program that prints out the calls for a spaceship that is about to launch. Countdown from 10 to 1 and then output Liftoff!\n",
        "\n",
        "Here's a sample run of the program:\n",
        "\n",
        "10 9 8 7 6 5 4 3 2 1 Liftoff!\n",
        "\n",
        "There are many ways to solve this problem. One approach is to use a for loop, and to use the for loop variable i. Recall that i will keep track of how many times the for loop has completed executing its body. As an example this code:\n",
        "\n",
        "for i in range(10): print(i)\n",
        "\n",
        "Will print out the values 0, 1, 2, 3, 4, 5, 6, 7, 8, 9. The values printed in liftoff are 10 minus the number of times the for loop has completed."
      ],
      "metadata": {
        "id": "gDL6MR2RkBRB"
      }
    },
    {
      "cell_type": "code",
      "source": [
        "for i in range(10):\n",
        "    print(10 - i, end=\" \")\n",
        "\n",
        "print(\"Liftoff!\")\n"
      ],
      "metadata": {
        "colab": {
          "base_uri": "https://localhost:8080/"
        },
        "id": "rEq0ZHWRkK2h",
        "outputId": "83d55f90-8edb-441d-d549-6686878f1c52"
      },
      "execution_count": 5,
      "outputs": [
        {
          "output_type": "stream",
          "name": "stdout",
          "text": [
            "10 9 8 7 6 5 4 3 2 1 Liftoff!\n"
          ]
        }
      ]
    },
    {
      "cell_type": "markdown",
      "source": [
        "***05_double_it***"
      ],
      "metadata": {
        "id": "EFMCwIJ5klL6"
      }
    },
    {
      "cell_type": "markdown",
      "source": [
        "Write a program that asks a user to enter a number. Your program will then double that number and print out the result. It will repeat that process until the value is 100 or greater.\n",
        "\n",
        "For example if the user enters the number 2 you would then print:\n",
        "\n",
        "4 8 16 32 64 128\n",
        "\n",
        "Note that:\n",
        "\n",
        "2 doubled is 4\n",
        "\n",
        "4 doubled is 8\n",
        "\n",
        "8 doubled is 16\n",
        "\n",
        "and so on.\n",
        "\n",
        "We stop at 128 because that value is greater than 100.\n",
        "\n",
        "Maintain the current number in a variable named curr_value. When you double the number, you should be updating curr_value. Recall that you can double the value of curr_value using a line like:\n",
        "\n",
        "curr_value = curr_value * 2\n",
        "\n",
        "This program should have a while loop and the while loop condition should test if curr_value is less than 100. Thus, your program will have the line:\n",
        "\n",
        "while curr_value < 100:"
      ],
      "metadata": {
        "id": "71f2EOxLkom3"
      }
    },
    {
      "cell_type": "code",
      "source": [
        "# User input\n",
        "curr_value = int(input(\"Enter a number: \"))\n",
        "\n",
        "# Keep doubling until the value is 100 or more\n",
        "while curr_value < 100:\n",
        "    curr_value = curr_value * 2\n",
        "    print(curr_value, end=\" \")\n"
      ],
      "metadata": {
        "colab": {
          "base_uri": "https://localhost:8080/"
        },
        "id": "8AcBrpOakzdu",
        "outputId": "d48d82d0-9bf3-4c71-fdcb-bb657b661f8c"
      },
      "execution_count": 6,
      "outputs": [
        {
          "output_type": "stream",
          "name": "stdout",
          "text": [
            "Enter a number: 4\n",
            "8 16 32 64 128 "
          ]
        }
      ]
    }
  ]
}