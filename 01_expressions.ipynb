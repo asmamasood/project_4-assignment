{
  "nbformat": 4,
  "nbformat_minor": 0,
  "metadata": {
    "colab": {
      "provenance": [],
      "authorship_tag": "ABX9TyN/SYrqQtQXCciQBTz6h/ib",
      "include_colab_link": true
    },
    "kernelspec": {
      "name": "python3",
      "display_name": "Python 3"
    },
    "language_info": {
      "name": "python"
    }
  },
  "cells": [
    {
      "cell_type": "markdown",
      "metadata": {
        "id": "view-in-github",
        "colab_type": "text"
      },
      "source": [
        "<a href=\"https://colab.research.google.com/github/asmamasood/project_4-assignment/blob/main/01_expressions.ipynb\" target=\"_parent\"><img src=\"https://colab.research.google.com/assets/colab-badge.svg\" alt=\"Open In Colab\"/></a>"
      ]
    },
    {
      "cell_type": "markdown",
      "source": [
        "***01_dicesimulator***"
      ],
      "metadata": {
        "id": "4Naxj7y9sDA-"
      }
    },
    {
      "cell_type": "markdown",
      "source": [
        "Simulate rolling two dice, three times. Prints the results of each die roll. This program is used to show how variable scope works"
      ],
      "metadata": {
        "id": "iiXP5GiN23Y5"
      }
    },
    {
      "cell_type": "code",
      "source": [
        "import random\n",
        "total_rolls=0\n",
        "def dice_roll():\n",
        " dice_1 = random.randint(1,6)\n",
        " dice_2 = random.randint(1,6)\n",
        " print(f\"Dice 1: {dice_1},Dice 2: {dice_2}\")\n",
        " global total_rolls\n",
        " total_rolls += 1\n",
        "for i in range (3):\n",
        " print (f\"Roll {i+1}:\")\n",
        " dice_roll()\n",
        "print(f\"\\nTotal roll perform : {total_rolls}  \")"
      ],
      "metadata": {
        "colab": {
          "base_uri": "https://localhost:8080/"
        },
        "collapsed": true,
        "id": "z1rk-Zk1seB-",
        "outputId": "6048654d-e1d1-4e48-84f9-d03137c04683"
      },
      "execution_count": null,
      "outputs": [
        {
          "output_type": "stream",
          "name": "stdout",
          "text": [
            "Roll 1:\n",
            "Dice 1: 2,Dice 2: 6\n",
            "Roll 2:\n",
            "Dice 1: 5,Dice 2: 5\n",
            "Roll 3:\n",
            "Dice 1: 3,Dice 2: 6\n",
            "\n",
            "Total roll perform : 3  \n"
          ]
        }
      ]
    },
    {
      "cell_type": "markdown",
      "source": [
        "***02_e=mc2***"
      ],
      "metadata": {
        "id": "aAad_6pj1HRB"
      }
    },
    {
      "cell_type": "markdown",
      "source": [
        "Write a program that continually reads in mass from the user and then outputs the equivalent energy using Einstein's mass-energy equivalence formula (E stands for energy, m stands for mass, and C is the speed of light:\n",
        "\n",
        "E = m * c**2\n",
        "\n",
        "Almost 100 years ago, Albert Einstein famously discovered that mass and energy are interchangeable and are related by the above equation. You should ask the user for mass (m) in kilograms and use a constant value for the speed of light -- C = 299792458 m/s.\n",
        "\n",
        "Here's a sample run of the program (user input is in bold italics):\n",
        "\n",
        "Enter kilos of mass: 100\n",
        "\n",
        "e = m * C^2...\n",
        "\n",
        "m = 100.0 kg\n",
        "\n",
        "C = 299792458 m/s\n",
        "\n",
        "8.987551787368176e+18 joules of energy!"
      ],
      "metadata": {
        "id": "QocoX0oC3HOR"
      }
    },
    {
      "cell_type": "code",
      "source": [
        "# Speed of light constant\n",
        "C = 299792458  # meters per second\n",
        "\n",
        "while True:\n",
        "    try:\n",
        "        # User input\n",
        "        mass_input = input(\"Enter kilos of mass (or 'q' to quit): \")\n",
        "\n",
        "        if mass_input.lower() == 'q':\n",
        "            print(\"Exiting program...\")\n",
        "            break\n",
        "\n",
        "        # Convert input to float\n",
        "        m = float(mass_input)\n",
        "\n",
        "        # Einstein's formula\n",
        "        E = m * C**2\n",
        "\n",
        "        # Output\n",
        "        print(\"\\ne = m * C^2...\\n\")\n",
        "        print(f\"m = {m} kg\")\n",
        "        print(f\"C = {C} m/s\")\n",
        "        print(f\"{E} joules of energy!\\n\")\n",
        "\n",
        "    except ValueError:\n",
        "        print(\"Please enter a valid number or 'q' to quit.\\n\")\n"
      ],
      "metadata": {
        "colab": {
          "base_uri": "https://localhost:8080/"
        },
        "id": "eHouJO631Vt6",
        "outputId": "9b658600-0501-4c98-a4ed-e6f90da75e38"
      },
      "execution_count": null,
      "outputs": [
        {
          "output_type": "stream",
          "name": "stdout",
          "text": [
            "Enter kilos of mass (or 'q' to quit): 67\n",
            "\n",
            "e = m * C^2...\n",
            "\n",
            "m = 67.0 kg\n",
            "C = 299792458 m/s\n",
            "6.021659697536678e+18 joules of energy!\n",
            "\n",
            "Enter kilos of mass (or 'q' to quit): q\n",
            "Exiting program...\n"
          ]
        }
      ]
    },
    {
      "cell_type": "markdown",
      "source": [
        "***03_feet_to_inches***"
      ],
      "metadata": {
        "id": "dY17fjUSWmI3"
      }
    },
    {
      "cell_type": "markdown",
      "source": [
        "Converts feet to inches. Feet is an American unit of measurement. There are 12 inches per foot. Foot is the singular, and feet is the plural."
      ],
      "metadata": {
        "id": "UOydui-eW8Tl"
      }
    },
    {
      "cell_type": "code",
      "source": [
        "feet=(input(\"Enter the number of feet:\"))\n",
        "inches=feet*12\n",
        "print(f\"{feet}feet is = {inches} inches\")"
      ],
      "metadata": {
        "colab": {
          "base_uri": "https://localhost:8080/"
        },
        "id": "XRKLLaMzXLk5",
        "outputId": "051e9424-87c3-4320-d820-4b7a22d77f95"
      },
      "execution_count": null,
      "outputs": [
        {
          "output_type": "stream",
          "name": "stdout",
          "text": [
            "Enter the number of feet:2\n",
            "2feet is = 222222222222 inches\n"
          ]
        }
      ]
    },
    {
      "cell_type": "markdown",
      "source": [
        "***04_pythagorean_theorem***"
      ],
      "metadata": {
        "id": "BJQUkOpokQVr"
      }
    },
    {
      "cell_type": "markdown",
      "source": [
        "Write a program that asks the user for the lengths of the two perpendicular sides of a right triangle and outputs the length of the third side (the hypotenuse) using the Pythagorean theorem!\n",
        "\n",
        "The Pythagorean theorem, named after the ancient Greek thinker, Pythagoras, is a fundamental relation in geometry. It states that in a right triangle, the square of the hypotenuse is equal to the sum of the square of the other two sides.\n",
        "\n",
        "For instance, let's consider a right triangle ABC, with the right angle located at C. According to the Pythagorean theorem:\n",
        "\n",
        "BC ** 2 = AB ** 2 + AC ** 2\n",
        "\n",
        "Your code should read in the lengths of the sides AB and AC, and that outputs the length of the hypotenuse (BC). You will probably find math.sqrt() to be useful.\n",
        "\n",
        "Here's a sample run of the program (user input is in bold italics):\n",
        "\n",
        "Enter the length of AB: 3\n",
        "\n",
        "Enter the length of AC: 4\n",
        "\n",
        "The length of BC (the hypotenuse) is: 5.0"
      ],
      "metadata": {
        "id": "vgINAuGlkNQ5"
      }
    },
    {
      "cell_type": "code",
      "source": [
        "import math\n",
        "\n",
        "# Get user input\n",
        "ab = float(input(\"Enter the length of AB: \"))\n",
        "ac = float(input(\"Enter the length of AC: \"))\n",
        "\n",
        "# Calculate the hypotenuse using the Pythagorean theorem\n",
        "bc = math.sqrt(ab ** 2 + ac ** 2)\n",
        "\n",
        "# Display the result\n",
        "print(\"The length of BC (the hypotenuse) is:\", bc)\n"
      ],
      "metadata": {
        "id": "BF1-FU8RnGG2",
        "colab": {
          "base_uri": "https://localhost:8080/"
        },
        "outputId": "d1420841-3e88-4366-837d-e6093eccd603"
      },
      "execution_count": null,
      "outputs": [
        {
          "output_type": "stream",
          "name": "stdout",
          "text": [
            "Enter the length of AB: 6\n",
            "Enter the length of AC: 8\n",
            "The length of BC (the hypotenuse) is: 10.0\n"
          ]
        }
      ]
    },
    {
      "cell_type": "markdown",
      "source": [
        "***05_remainder_division***"
      ],
      "metadata": {
        "id": "WtxnIyr4QXau"
      }
    },
    {
      "cell_type": "markdown",
      "source": [
        "Ask the user for two numbers, one at a time, and then print the result of dividing the first number by the second and also the remainder of the division.\n",
        "\n",
        "Here's a sample run of the program (user input is in bold italics):\n",
        "\n",
        "Please enter an integer to be divided: 5\n",
        "\n",
        "Please enter an integer to divide by: 3\n",
        "\n",
        "The result of this division is 1 with a remainder of 2"
      ],
      "metadata": {
        "id": "jgZmsbiIQazh"
      }
    },
    {
      "cell_type": "code",
      "source": [
        "num1 = int(input(\"Please enter an integer to be divided: \"))\n",
        "num2 = int(input(\"Please enter an integer to divide by: \"))\n",
        "quotient = num1 // num2\n",
        "remainder = num1 % num2\n",
        "print(f\"{num1} is divided by {num2} result is {quotient} and remainder is {remainder} \")\n",
        "\n"
      ],
      "metadata": {
        "colab": {
          "base_uri": "https://localhost:8080/"
        },
        "id": "jHjVC_-dQfRu",
        "outputId": "6beaab42-2298-4425-9529-e1b589fc9731"
      },
      "execution_count": null,
      "outputs": [
        {
          "output_type": "stream",
          "name": "stdout",
          "text": [
            "Please enter an integer to be divided: 79\n",
            "Please enter an integer to divide by: 3\n",
            "79 is divided by 3 result is 26 and remainder is 1 \n"
          ]
        }
      ]
    },
    {
      "cell_type": "markdown",
      "source": [
        "***06_rolldice***"
      ],
      "metadata": {
        "id": "eGsl8QWsTd9Q"
      }
    },
    {
      "cell_type": "markdown",
      "source": [
        "Simulate rolling two dice, and prints results of each roll as well as the total."
      ],
      "metadata": {
        "id": "nkimAlzyTixS"
      }
    },
    {
      "cell_type": "code",
      "source": [
        "import random\n",
        "dice1=random.randint(1,6)\n",
        "dice2=random.randint(1,6)\n",
        "total=dice1+dice2\n",
        "print(f\"dice_1: {dice1} \\n dice_2: {dice2} \\n Total: {total}\")"
      ],
      "metadata": {
        "colab": {
          "base_uri": "https://localhost:8080/"
        },
        "id": "gfc49mM_Tp3z",
        "outputId": "37f52498-436d-4fe1-cff7-e4d6731c5a5c"
      },
      "execution_count": null,
      "outputs": [
        {
          "output_type": "stream",
          "name": "stdout",
          "text": [
            "dice_1: 3 \n",
            " dice_2: 6 \n",
            " Total: 9\n"
          ]
        }
      ]
    },
    {
      "cell_type": "markdown",
      "source": [
        "***06_seconds_in_year***"
      ],
      "metadata": {
        "id": "EnPehtO5VqmL"
      }
    },
    {
      "cell_type": "markdown",
      "source": [
        "Use Python to calculate the number of seconds in a year, and tell the user what the result is in a nice print statement that looks like this (of course the value 5 should be the calculated number instead):\n",
        "\n",
        "There are 5 seconds in a year!\n",
        "\n",
        "You should use constants for this exercise -- there are 365 days in a year, 24 hours in a day, 60 minutes in an hour, and 60 seconds per minute."
      ],
      "metadata": {
        "id": "tiCG_n79VuL6"
      }
    },
    {
      "cell_type": "code",
      "source": [
        "\n",
        "DAYS_IN_YEAR = 365\n",
        "HOURS_IN_DAY = 24\n",
        "MINUTES_IN_HOUR = 60\n",
        "SECONDS_IN_MINUTE = 60\n",
        "seconds_in_year = DAYS_IN_YEAR * HOURS_IN_DAY * MINUTES_IN_HOUR * SECONDS_IN_MINUTE\n",
        "\n",
        "print(f\"There are {seconds_in_year} seconds in a year!\")\n"
      ],
      "metadata": {
        "colab": {
          "base_uri": "https://localhost:8080/"
        },
        "id": "x6GulJHdQ0gA",
        "outputId": "43b25bb4-716c-49c1-a812-5c01c0223342"
      },
      "execution_count": null,
      "outputs": [
        {
          "output_type": "stream",
          "name": "stdout",
          "text": [
            "There are 31536000 seconds in a year!\n"
          ]
        }
      ]
    },
    {
      "cell_type": "markdown",
      "source": [
        "***07_tiny_mad_lib***"
      ],
      "metadata": {
        "id": "06aRFnbi1VT8"
      }
    },
    {
      "cell_type": "markdown",
      "source": [
        "Write a program which prompts the user for an adjective, then a noun, then a verb, and then prints a fun sentence with those words!\n",
        "\n",
        "Mad Libs is a word game where players are prompted for one word at a time, and the words are eventually filled into the blanks of a word template to make an entertaining story! We've provided you with the beginning of a sentence (the SENTENCE_START constant) which will end in a user-inputted adjective, noun, and then verb.\n",
        "\n",
        "Here's a sample run (user input is in bold italics):\n",
        "\n",
        "Please type an adjective and press enter. tiny\n",
        "\n",
        "Please type a noun and press enter. plant\n",
        "\n",
        "Please type a verb and press enter. fly\n",
        "\n",
        "Code in Place is fun. I learned to program and used Python to make my tiny plant fly!"
      ],
      "metadata": {
        "id": "UQirc4ao1YdJ"
      }
    },
    {
      "cell_type": "code",
      "source": [
        "\n",
        "SENTENCE_START = \"Code in Place is fun. I learned to program and used Python to make my\"\n",
        "adjective = input(\"Please type an adjective and press enter: \")\n",
        "noun = input(\"Please type a noun and press enter: \")\n",
        "verb = input(\"Please type a verb and press enter: \")\n",
        "\n",
        "print(f\"{SENTENCE_START} {adjective} {noun} {verb}!\")\n"
      ],
      "metadata": {
        "colab": {
          "base_uri": "https://localhost:8080/"
        },
        "id": "jf65Fm141fhv",
        "outputId": "c5037d94-6d75-490e-ebd3-d1e99163dfb5"
      },
      "execution_count": null,
      "outputs": [
        {
          "output_type": "stream",
          "name": "stdout",
          "text": [
            "Please type an adjective and press enter: sparkly\n",
            "Please type a noun and press enter: robot\n",
            "Please type a verb and press enter: dance\n",
            "Code in Place is fun. I learned to program and used Python to make my sparkly robot dance!\n"
          ]
        }
      ]
    }
  ]
}