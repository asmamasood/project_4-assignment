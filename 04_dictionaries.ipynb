{
  "cells": [
    {
      "cell_type": "markdown",
      "metadata": {
        "id": "view-in-github",
        "colab_type": "text"
      },
      "source": [
        "<a href=\"https://colab.research.google.com/github/asmamasood/project_4-assignment/blob/main/04_dictionaries.ipynb\" target=\"_parent\"><img src=\"https://colab.research.google.com/assets/colab-badge.svg\" alt=\"Open In Colab\"/></a>"
      ]
    },
    {
      "cell_type": "markdown",
      "metadata": {
        "id": "R4V4reMMg9yq"
      },
      "source": [
        "***00_count_nums***"
      ]
    },
    {
      "cell_type": "markdown",
      "metadata": {
        "id": "yuSRyv0YhHXV"
      },
      "source": [
        "This program counts the number of times each number appears in a list. It uses a dictionary to keep track of the information.\n",
        "\n",
        "An example run of the program looks like this (user input is in blue):\n",
        "\n",
        "Enter a number: 3 Enter a number: 4 Enter a number: 3 Enter a number: 6 Enter a number: 4 Enter a number: 3 Enter a number: 12 Enter a number: 3 appears 3 times. 4 appears 2 times. 6 appears 1 times. 12 appears 1 times."
      ]
    },
    {
      "cell_type": "code",
      "execution_count": null,
      "metadata": {
        "colab": {
          "base_uri": "https://localhost:8080/"
        },
        "id": "8Fyks8qEhL_r",
        "outputId": "e7d58157-85b7-462a-813a-968653989c1c"
      },
      "outputs": [
        {
          "name": "stdout",
          "output_type": "stream",
          "text": [
            "Enter a number (or press Enter to stop): 3\n",
            "Enter a number (or press Enter to stop): 3\n",
            "Enter a number (or press Enter to stop): 4\n",
            "Enter a number (or press Enter to stop): 5\n",
            "Enter a number (or press Enter to stop): \n",
            "\n",
            "Results:\n",
            "3 appears 2 times.\n",
            "4 appears 1 times.\n",
            "5 appears 1 times.\n"
          ]
        }
      ],
      "source": [
        "def main():\n",
        "    counts = {}\n",
        "\n",
        "    while True:\n",
        "        number = input(\"Enter a number (or press Enter to stop): \")\n",
        "        if number == \"\":\n",
        "            break\n",
        "        number = int(number)\n",
        "\n",
        "        if number in counts:\n",
        "            counts[number] += 1\n",
        "        else:\n",
        "            counts[number] = 1\n",
        "\n",
        "    print(\"\\nResults:\")\n",
        "    for num in counts:\n",
        "        print(f\"{num} appears {counts[num]} times.\")\n",
        "\n",
        "# Run the function\n",
        "main()\n",
        "\n"
      ]
    },
    {
      "cell_type": "markdown",
      "metadata": {
        "id": "agidmJau27br"
      },
      "source": [
        "***01_phonebook***"
      ]
    },
    {
      "cell_type": "markdown",
      "metadata": {
        "id": "CKgXLb-W3INR"
      },
      "source": [
        "In this program we show an example of using dictionaries to keep track of information in a phonebook."
      ]
    },
    {
      "cell_type": "code",
      "execution_count": null,
      "metadata": {
        "colab": {
          "base_uri": "https://localhost:8080/"
        },
        "id": "Ct4b6L7f38GA",
        "outputId": "6118a575-de59-4dfd-df42-0f9086c363dd"
      },
      "outputs": [
        {
          "output_type": "stream",
          "name": "stdout",
          "text": [
            "Do you want to (a)dd, (l)ookup, or (q)uit? a\n",
            "Name: asma\n",
            "Phone number: 03138278966\n",
            "Added asma with 03138278966\n",
            "Do you want to (a)dd, (l)ookup, or (q)uit? masood\n",
            "Do you want to (a)dd, (l)ookup, or (q)uit? 03243724586\n",
            "Do you want to (a)dd, (l)ookup, or (q)uit? l\n",
            "Nameasma\n",
            "asma's phone number is 03138278966\n",
            "Do you want to (a)dd, (l)ookup, or (q)uit? q\n",
            "Goodbye\n"
          ]
        }
      ],
      "source": [
        "def main():\n",
        "  phone_book={}\n",
        "  while True:\n",
        "      action = input(\"Do you want to (a)dd, (l)ookup, or (q)uit? \").lower()\n",
        "      if action ==\"a\":\n",
        "        name=input(\"Name: \")\n",
        "        phone_number=input(\"Phone number: \")\n",
        "        phone_book[name]=phone_number\n",
        "        print(f\"Added {name} with {phone_number}\")\n",
        "      elif action ==\"l\":\n",
        "        name=input(\"Name\")\n",
        "        if name in phone_book:\n",
        "          print(f\"{name}'s phone number is {phone_book[name]}\")\n",
        "        else:\n",
        "          print(f\"{name} is not in the phone book\")\n",
        "      elif action ==\"q\":\n",
        "        print(\"Goodbye\")\n",
        "        break\n",
        "\n",
        "if __name__ == \"__main__\":\n",
        "  main()\n"
      ]
    },
    {
      "cell_type": "markdown",
      "source": [
        "***02_pop_up_shop***"
      ],
      "metadata": {
        "id": "tAwz5S2fSXUU"
      }
    },
    {
      "cell_type": "markdown",
      "source": [
        "There's a small fruit shop nearby your house that you like to buy from. Since you buy several fruit at a time, you want to keep track of how much the fruit will cost before you go. Luckily you wrote down what fruits were available and how much one of each fruit costs.\n",
        "\n",
        "Write a program that loops through a dictionary of fruits, prompting the user to see how many of each fruit they want to buy, and then prints out the total combined cost of all of the fruits.\n",
        "\n",
        "Here is an example run of the program (user input is in bold italics):\n",
        "\n",
        "How many (apple) do you want?: 2\n",
        "\n",
        "How many (durian) do you want?: 0\n",
        "\n",
        "How many (jackfruit) do you want?: 1\n",
        "\n",
        "How many (kiwi) do you want?: 0\n",
        "\n",
        "How many (rambutan) do you want?: 1\n",
        "\n",
        "How many (mango) do you want?: 3\n",
        "\n",
        "Your total is $99.5"
      ],
      "metadata": {
        "id": "Nn5HyvLtSavY"
      }
    },
    {
      "cell_type": "code",
      "source": [
        "# Dictionary of fruits and their prices\n",
        "fruit_prices = {\n",
        "    \"apple\": 5.0,\n",
        "    \"durian\": 25.0,\n",
        "    \"jackfruit\": 15.0,\n",
        "    \"kiwi\": 3.5,\n",
        "    \"rambutan\": 6.0,\n",
        "    \"mango\": 8.5\n",
        "}\n",
        "\n",
        "total_cost = 0.0\n",
        "\n",
        "# Loop through each fruit and ask the user how many they want\n",
        "for fruit, price in fruit_prices.items():\n",
        "    quantity = int(input(f\"How many ({fruit}) do you want?: \"))\n",
        "    total_cost += quantity * price\n",
        "\n",
        "# Print the total cost\n",
        "print(f\"\\nYour total is ${total_cost}\")\n"
      ],
      "metadata": {
        "id": "A3-OTqyGSk6b",
        "colab": {
          "base_uri": "https://localhost:8080/"
        },
        "outputId": "d26ab0c5-56e2-4549-d691-db84c7c9659a"
      },
      "execution_count": null,
      "outputs": [
        {
          "output_type": "stream",
          "name": "stdout",
          "text": [
            "How many (apple) do you want?: 3\n",
            "How many (durian) do you want?: 4\n",
            "How many (jackfruit) do you want?: 2\n",
            "How many (kiwi) do you want?: 1\n",
            "How many (rambutan) do you want?: 6\n",
            "How many (mango) do you want?: 4\n",
            "\n",
            "Your total is $218.5\n"
          ]
        }
      ]
    },
    {
      "cell_type": "markdown",
      "source": [
        "***03_powerful_passwords***"
      ],
      "metadata": {
        "id": "gF7c_1s6nJuf"
      }
    },
    {
      "cell_type": "markdown",
      "source": [
        "You want to be safe online and use different passwords for different websites. However, you are forgetful at times and want to make a program that can match which password belongs to which website without storing the actual password!\n",
        "\n",
        "This can be done via something called hashing. Hashing is when we take something and convert it into a different, unique identifier. This is done using a hash function. Luckily, there are several resources that can help us with this.\n",
        "\n",
        "For example, using a hash function called SHA256(...) something as simple as\n",
        "\n",
        "hello\n",
        "\n",
        "can be hashed into a much more complex\n",
        "\n",
        "2cf24dba5fb0a30e26e83b2ac5b9e29e1b161e5c1fa7425e73043362938b9824\n",
        "\n",
        "Fill out the login(...) function for a website that hashes their passwords. Login should return True if an email's stored password hash in stored_logins is the same as the hash of password_to_check.\n",
        "\n",
        "(Hint. You will need to use the provided hash_password(...) function. You don't necessarily need to know how it works, just know that hash_password(...) returns the hash for the password!)"
      ],
      "metadata": {
        "id": "5LbkqHvQnYb3"
      }
    },
    {
      "cell_type": "code",
      "source": [
        "import hashlib\n",
        "def hash_password(password):\n",
        "    return hashlib.sha256(password.encode()).hexdigest()\n",
        "def login(email, password_to_check, stored_logins):\n",
        "    # Step 1: hash the password the user entered\n",
        "    hashed_password = hash_password(password_to_check)\n",
        "\n",
        "    # Step 2: compare with the stored hashed password\n",
        "    return stored_logins.get(email) == hashed_password\n",
        "stored_logins = {\n",
        "    \"asma@example.com\": hash_password(\"mySecret123\"),\n",
        "    \"user@example.com\": hash_password(\"password456\")\n",
        "}\n",
        "print(login(\"asma@example.com\", \"mySecret123\", stored_logins))  # ✅ True\n",
        "print(login(\"asma@example.com\", \"wrongPassword\", stored_logins))  # ❌ False\n",
        "print(login(\"unknown@example.com\", \"password456\", stored_logins))  # ❌ False\n",
        "\n"
      ],
      "metadata": {
        "id": "tsIiS-_o6XJC",
        "colab": {
          "base_uri": "https://localhost:8080/"
        },
        "outputId": "a53d390b-1816-4446-b527-dfc248e7c995"
      },
      "execution_count": 1,
      "outputs": [
        {
          "output_type": "stream",
          "name": "stdout",
          "text": [
            "True\n",
            "False\n",
            "False\n"
          ]
        }
      ]
    }
  ],
  "metadata": {
    "colab": {
      "provenance": [],
      "authorship_tag": "ABX9TyPE0EGk+dHZ18t89zEzkrkI",
      "include_colab_link": true
    },
    "kernelspec": {
      "display_name": "Python 3",
      "name": "python3"
    },
    "language_info": {
      "name": "python"
    }
  },
  "nbformat": 4,
  "nbformat_minor": 0
}